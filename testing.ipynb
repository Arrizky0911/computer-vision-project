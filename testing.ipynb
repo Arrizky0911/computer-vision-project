{
  "nbformat": 4,
  "nbformat_minor": 0,
  "metadata": {
    "colab": {
      "provenance": [],
      "gpuType": "A100",
      "machine_shape": "hm"
    },
    "kernelspec": {
      "name": "python3",
      "display_name": "Python 3"
    },
    "language_info": {
      "name": "python"
    },
    "accelerator": "GPU"
  },
  "cells": [
    {
      "cell_type": "code",
      "execution_count": null,
      "metadata": {
        "colab": {
          "base_uri": "https://localhost:8080/"
        },
        "id": "zpRr4rl_-qwM",
        "outputId": "51d204f7-8900-4ba1-8082-f2708e0a128a"
      },
      "outputs": [
        {
          "output_type": "stream",
          "name": "stdout",
          "text": [
            "Drive already mounted at /content/drive; to attempt to forcibly remount, call drive.mount(\"/content/drive\", force_remount=True).\n",
            "/content/drive/.shortcut-targets-by-id/1tnt3cKRdWn9lFKrM82KlrZH6CO5EgchD/Computer Vision Project/kits23\n"
          ]
        }
      ],
      "source": [
        "from google.colab import drive\n",
        "drive.mount('/content/drive')\n",
        "\n",
        "\n",
        "FOLDERNAME = \"Computer Vision Project/kits23\"\n",
        "assert FOLDERNAME is not None, \"[!] Enter the foldername.\"\n",
        "\n",
        "import sys\n",
        "sys.path.append('/content/drive/My Drive/{}'.format(FOLDERNAME))\n",
        "\n",
        "%cd /content/drive/My\\ Drive/$FOLDERNAME"
      ]
    },
    {
      "cell_type": "code",
      "execution_count": null,
      "metadata": {
        "colab": {
          "base_uri": "https://localhost:8080/"
        },
        "id": "EhIUOZFnfwyI",
        "outputId": "750b32f8-2026-4619-ff59-ab37dad0900f"
      },
      "outputs": [
        {
          "output_type": "stream",
          "name": "stdout",
          "text": [
            "\u001b[2K   \u001b[90m━━━━━━━━━━━━━━━━━━━━━━━━━━━━━━━━━━━━━━━━\u001b[0m \u001b[32m363.4/363.4 MB\u001b[0m \u001b[31m4.7 MB/s\u001b[0m eta \u001b[36m0:00:00\u001b[0m\n",
            "\u001b[2K   \u001b[90m━━━━━━━━━━━━━━━━━━━━━━━━━━━━━━━━━━━━━━━━\u001b[0m \u001b[32m13.8/13.8 MB\u001b[0m \u001b[31m111.2 MB/s\u001b[0m eta \u001b[36m0:00:00\u001b[0m\n",
            "\u001b[2K   \u001b[90m━━━━━━━━━━━━━━━━━━━━━━━━━━━━━━━━━━━━━━━━\u001b[0m \u001b[32m24.6/24.6 MB\u001b[0m \u001b[31m90.5 MB/s\u001b[0m eta \u001b[36m0:00:00\u001b[0m\n",
            "\u001b[2K   \u001b[90m━━━━━━━━━━━━━━━━━━━━━━━━━━━━━━━━━━━━━━━━\u001b[0m \u001b[32m883.7/883.7 kB\u001b[0m \u001b[31m53.2 MB/s\u001b[0m eta \u001b[36m0:00:00\u001b[0m\n",
            "\u001b[2K   \u001b[90m━━━━━━━━━━━━━━━━━━━━━━━━━━━━━━━━━━━━━━━━\u001b[0m \u001b[32m664.8/664.8 MB\u001b[0m \u001b[31m1.9 MB/s\u001b[0m eta \u001b[36m0:00:00\u001b[0m\n",
            "\u001b[2K   \u001b[90m━━━━━━━━━━━━━━━━━━━━━━━━━━━━━━━━━━━━━━━━\u001b[0m \u001b[32m211.5/211.5 MB\u001b[0m \u001b[31m11.6 MB/s\u001b[0m eta \u001b[36m0:00:00\u001b[0m\n",
            "\u001b[2K   \u001b[90m━━━━━━━━━━━━━━━━━━━━━━━━━━━━━━━━━━━━━━━━\u001b[0m \u001b[32m56.3/56.3 MB\u001b[0m \u001b[31m41.4 MB/s\u001b[0m eta \u001b[36m0:00:00\u001b[0m\n",
            "\u001b[2K   \u001b[90m━━━━━━━━━━━━━━━━━━━━━━━━━━━━━━━━━━━━━━━━\u001b[0m \u001b[32m127.9/127.9 MB\u001b[0m \u001b[31m19.1 MB/s\u001b[0m eta \u001b[36m0:00:00\u001b[0m\n",
            "\u001b[2K   \u001b[90m━━━━━━━━━━━━━━━━━━━━━━━━━━━━━━━━━━━━━━━━\u001b[0m \u001b[32m207.5/207.5 MB\u001b[0m \u001b[31m3.2 MB/s\u001b[0m eta \u001b[36m0:00:00\u001b[0m\n",
            "\u001b[2K   \u001b[90m━━━━━━━━━━━━━━━━━━━━━━━━━━━━━━━━━━━━━━━━\u001b[0m \u001b[32m21.1/21.1 MB\u001b[0m \u001b[31m94.2 MB/s\u001b[0m eta \u001b[36m0:00:00\u001b[0m\n",
            "\u001b[2K   \u001b[90m━━━━━━━━━━━━━━━━━━━━━━━━━━━━━━━━━━━━━━━━\u001b[0m \u001b[32m2.6/2.6 MB\u001b[0m \u001b[31m96.4 MB/s\u001b[0m eta \u001b[36m0:00:00\u001b[0m\n",
            "\u001b[?25h"
          ]
        }
      ],
      "source": [
        "!pip install -q \"monai-weekly[nibabel, tqdm]\""
      ]
    },
    {
      "cell_type": "code",
      "execution_count": null,
      "metadata": {
        "id": "5h_NqsSuf3Yt"
      },
      "outputs": [],
      "source": [
        "import pandas as pd\n",
        "import os\n",
        "from tqdm import tqdm\n",
        "\n",
        "import torch\n",
        "import torch.nn as nn\n",
        "import torch.nn.functional as F\n",
        "from torch.utils.data import Dataset, DataLoader\n",
        "\n",
        "from monai.inferers import sliding_window_inference\n",
        "from monai.networks.nets import SegResNet"
      ]
    },
    {
      "cell_type": "markdown",
      "source": [
        "# **Utils**"
      ],
      "metadata": {
        "id": "BopITRztnyzt"
      }
    },
    {
      "cell_type": "code",
      "execution_count": null,
      "metadata": {
        "id": "9f02541a-22e7-4771-ad9c-029105024817"
      },
      "outputs": [],
      "source": [
        "class UNet3D(nn.Module):\n",
        "    def __init__(self):\n",
        "        super(UNet3D, self).__init__()\n",
        "        # Encoder\n",
        "        self.enc1 = self.conv_block(1, 32)\n",
        "        self.enc2 = self.conv_block(32, 64)\n",
        "        self.enc3 = self.conv_block(64, 128)\n",
        "        self.enc4 = self.conv_block(128, 256)\n",
        "        self.enc5 = self.conv_block(256, 512)\n",
        "        self.pool = nn.MaxPool3d(2)\n",
        "\n",
        "        # Decoder\n",
        "        self.up5 = nn.ConvTranspose3d(512, 256, kernel_size=2, stride=2)\n",
        "        self.dec5 = self.conv_block(512, 256)\n",
        "        self.up4 = nn.ConvTranspose3d(256, 128, kernel_size=2, stride=2)\n",
        "        self.dec4 = self.conv_block(256, 128)\n",
        "        self.up3 = nn.ConvTranspose3d(128, 64, kernel_size=2, stride=2)\n",
        "        self.dec3 = self.conv_block(128, 64)\n",
        "        self.up2 = nn.ConvTranspose3d(64, 32, kernel_size=2, stride=2)\n",
        "        self.dec2 = self.conv_block(64, 32)\n",
        "        self.dec1 = nn.Conv3d(32, 4, kernel_size=1)\n",
        "\n",
        "    def conv_block(self, in_channels, out_channels):\n",
        "        return nn.Sequential(\n",
        "            nn.Conv3d(in_channels, out_channels, kernel_size=3, padding=1),\n",
        "            nn.BatchNorm3d(out_channels),\n",
        "            nn.ReLU(inplace=True),\n",
        "            nn.Conv3d(out_channels, out_channels, kernel_size=3, padding=1),\n",
        "            nn.BatchNorm3d(out_channels),\n",
        "            nn.ReLU(inplace=True)\n",
        "        )\n",
        "\n",
        "    def forward(self, x):\n",
        "        # Encoder\n",
        "        enc1 = self.enc1(x)\n",
        "        enc2 = self.enc2(self.pool(enc1))\n",
        "        enc3 = self.enc3(self.pool(enc2))\n",
        "        enc4 = self.enc4(self.pool(enc3))\n",
        "        enc5 = self.enc5(self.pool(enc4))\n",
        "\n",
        "        # Decoder with skip connections\n",
        "        dec5 = self.up5(enc5)\n",
        "        dec5 = torch.cat([dec5, enc4], dim=1)\n",
        "        dec5 = self.dec5(dec5)\n",
        "\n",
        "        dec4 = self.up4(dec5)\n",
        "        dec4 = torch.cat([dec4, enc3], dim=1)\n",
        "        dec4 = self.dec4(dec4)\n",
        "\n",
        "        dec3 = self.up3(dec4)\n",
        "        dec3 = torch.cat([dec3, enc2], dim=1)\n",
        "        dec3 = self.dec3(dec3)\n",
        "\n",
        "        dec2 = self.up2(dec3)\n",
        "        dec2 = torch.cat([dec2, enc1], dim=1)\n",
        "        dec2 = self.dec2(dec2)\n",
        "\n",
        "        # Output layer\n",
        "        dec1 = self.dec1(dec2)\n",
        "        return dec1"
      ]
    },
    {
      "cell_type": "code",
      "source": [
        "class CTTestDataset(Dataset):\n",
        "    def __init__(self, dataframe, transform=None):\n",
        "        self.data = dataframe\n",
        "        self.transform = transform\n",
        "\n",
        "    def __len__(self):\n",
        "        return len(self.data)\n",
        "\n",
        "    def __getitem__(self, idx):\n",
        "        image_path = self.data.iloc[idx]['image']\n",
        "        label_path = self.data.iloc[idx]['label']\n",
        "\n",
        "        image = torch.load(image_path)\n",
        "        label = torch.load(label_path)\n",
        "\n",
        "        if self.transform:\n",
        "            image, label = self.transform(image, label)\n",
        "\n",
        "        return image, label"
      ],
      "metadata": {
        "id": "8NvDoYicDhVN"
      },
      "execution_count": null,
      "outputs": []
    },
    {
      "cell_type": "code",
      "source": [
        "def test_model(model, test_dataloader, device):\n",
        "    model.to(device)\n",
        "    model.eval()\n",
        "    test_dice = []\n",
        "    test_dice_kidney = []\n",
        "    test_dice_tumor = []\n",
        "    test_dice_cyst = []\n",
        "\n",
        "    with torch.no_grad():\n",
        "        for test_images, test_labels in tqdm(test_dataloader):\n",
        "            test_images, test_labels = test_images.to(device), test_labels.to(device)\n",
        "            test_outputs = sliding_window_inference(\n",
        "                inputs=test_images,\n",
        "                roi_size=(128, 128, 128),\n",
        "                sw_batch_size=1,\n",
        "                predictor=model,\n",
        "            )\n",
        "\n",
        "            test_outputs = F.softmax(test_outputs, dim=1)\n",
        "            test_outputs = torch.argmax(test_outputs, dim=1)\n",
        "\n",
        "            dice = (2. * ((test_outputs != 0) & (test_labels != 0)).sum()) / ((test_outputs != 0).sum() + (test_labels != 0).sum() + 1e-6)\n",
        "            dice_kidney = (2. * ((test_outputs == 1) & (test_labels == 1)).sum()) / ((test_outputs == 1).sum() + (test_labels == 1).sum() + 1e-6)\n",
        "            dice_tumor = (2. * ((test_outputs == 2) & (test_labels == 2)).sum()) / ((test_outputs == 2).sum() + (test_labels == 2).sum() + 1e-6)\n",
        "\n",
        "            test_dice.append(dice.item())\n",
        "            test_dice_kidney.append(dice_kidney.item())\n",
        "            test_dice_tumor.append(dice_tumor.item())\n",
        "\n",
        "            print(f'Test Dice: {dice.item():.4f}')\n",
        "            print(f'Test Dice Kidney: {dice_kidney.item():.4f}')\n",
        "            print(f'Test Dice Tumor: {dice_tumor.item():.4f}')\n",
        "\n",
        "            if torch.max(torch.unique(test_labels)).item() == 3:\n",
        "              dice_cyst = (2. * ((test_outputs == 3) & (test_labels == 3)).sum()) / ((test_outputs == 3).sum() + (test_labels == 3).sum() + 1e-6)\n",
        "              test_dice_cyst.append(dice_cyst.item())\n",
        "              print(f'Test Dice Crystal: {dice_cyst.item():.4f}')\n",
        "\n",
        "    test_avg_dice = sum(test_dice) / len(test_dice)\n",
        "    test_avg_dice_kidney = sum(test_dice_kidney) / len(test_dice_kidney)\n",
        "    test_avg_dice_tumor = sum(test_dice_tumor) / len(test_dice_tumor)\n",
        "    test_avg_dice_cyst = sum(test_dice_cyst) / len(test_dice_cyst)\n",
        "\n",
        "    print(f'Dice: {test_avg_dice:.4f}')\n",
        "    print(f'Dice Kidney: {test_avg_dice_kidney:.4f}')\n",
        "    print(f'Dice Tumor: {test_avg_dice_tumor:.4f}')\n",
        "    print(f'Dice Cyst: {test_avg_dice_cyst:.4f}')\n",
        "\n",
        "    return test_avg_dice, test_avg_dice_kidney, test_avg_dice_tumor, test_avg_dice_cyst"
      ],
      "metadata": {
        "id": "FTAr334-nHoF"
      },
      "execution_count": null,
      "outputs": []
    },
    {
      "cell_type": "markdown",
      "source": [
        "# **Evaluate**"
      ],
      "metadata": {
        "id": "lPvcSbpuDevf"
      }
    },
    {
      "cell_type": "code",
      "source": [
        "test_df = pd.read_csv('../preprocessed_test.csv')\n",
        "test_dataset = CTTestDataset(test_df)\n",
        "test_dataloader = DataLoader(test_dataset, batch_size=1, shuffle=False)"
      ],
      "metadata": {
        "id": "YeF35xIUn5M6"
      },
      "execution_count": null,
      "outputs": []
    },
    {
      "cell_type": "code",
      "source": [
        "model = SegResNet(\n",
        "    blocks_down=[1, 2, 2, 4, 4],\n",
        "    blocks_up=[1, 1, 1, 1],\n",
        "    init_filters=16,\n",
        "    in_channels=1,\n",
        "    out_channels=4,\n",
        "    dropout_prob=0.2,\n",
        ")\n",
        "device = torch.device('cuda' if torch.cuda.is_available() else 'cpu')\n",
        "\n",
        "checkpoint_path = '/content/drive/MyDrive/Computer Vision Project/SegResNet3D_128_2nd/checkpoint_SegResNet_epoch_5.pth'\n",
        "if os.path.exists(checkpoint_path):\n",
        "    checkpoint = torch.load(checkpoint_path, map_location=device)\n",
        "    model.load_state_dict(checkpoint['model_state_dict'])\n",
        "\n",
        "snn_dice_score, snn_dice_score_kidney, snn_dice_score_tumor, snn_dice_score_cyst = test_model(model, test_dataloader, device)"
      ],
      "metadata": {
        "colab": {
          "base_uri": "https://localhost:8080/"
        },
        "id": "aF8XfYkYl-XF",
        "outputId": "ce268a5b-1dce-458f-8d7d-ecb5f9920456"
      },
      "execution_count": null,
      "outputs": [
        {
          "metadata": {
            "tags": null
          },
          "name": "stderr",
          "output_type": "stream",
          "text": [
            "<ipython-input-16-c0a8ceff184e>:13: FutureWarning: You are using `torch.load` with `weights_only=False` (the current default value), which uses the default pickle module implicitly. It is possible to construct malicious pickle data which will execute arbitrary code during unpickling (See https://github.com/pytorch/pytorch/blob/main/SECURITY.md#untrusted-models for more details). In a future release, the default value for `weights_only` will be flipped to `True`. This limits the functions that could be executed during unpickling. Arbitrary objects will no longer be allowed to be loaded via this mode unless they are explicitly allowlisted by the user via `torch.serialization.add_safe_globals`. We recommend you start setting `weights_only=True` for any use case where you don't have full control of the loaded file. Please open an issue on GitHub for any issues related to this experimental feature.\n",
            "  checkpoint = torch.load(checkpoint_path, map_location=device)\n",
            "  0%|          | 0/98 [00:00<?, ?it/s]<ipython-input-4-3434f6aab843>:14: FutureWarning: You are using `torch.load` with `weights_only=False` (the current default value), which uses the default pickle module implicitly. It is possible to construct malicious pickle data which will execute arbitrary code during unpickling (See https://github.com/pytorch/pytorch/blob/main/SECURITY.md#untrusted-models for more details). In a future release, the default value for `weights_only` will be flipped to `True`. This limits the functions that could be executed during unpickling. Arbitrary objects will no longer be allowed to be loaded via this mode unless they are explicitly allowlisted by the user via `torch.serialization.add_safe_globals`. We recommend you start setting `weights_only=True` for any use case where you don't have full control of the loaded file. Please open an issue on GitHub for any issues related to this experimental feature.\n",
            "  label = torch.load(label_path)\n",
            "  1%|          | 1/98 [00:10<17:37, 10.90s/it]"
          ]
        },
        {
          "metadata": {
            "tags": null
          },
          "name": "stdout",
          "output_type": "stream",
          "text": [
            "Test Dice: 0.6055\n",
            "Test Dice Kidney: 0.6035\n",
            "Test Dice Tumor: 0.3363\n",
            "Test Dice Crystal: 0.0000\n"
          ]
        },
        {
          "metadata": {
            "tags": null
          },
          "name": "stderr",
          "output_type": "stream",
          "text": [
            "\r  2%|▏         | 2/98 [00:48<42:19, 26.45s/it]"
          ]
        },
        {
          "metadata": {
            "tags": null
          },
          "name": "stdout",
          "output_type": "stream",
          "text": [
            "Test Dice: 0.7315\n",
            "Test Dice Kidney: 0.7905\n",
            "Test Dice Tumor: 0.2560\n",
            "Test Dice Crystal: 0.0000\n"
          ]
        },
        {
          "metadata": {
            "tags": null
          },
          "name": "stderr",
          "output_type": "stream",
          "text": [
            "\r  3%|▎         | 3/98 [00:58<30:20, 19.16s/it]"
          ]
        },
        {
          "metadata": {
            "tags": null
          },
          "name": "stdout",
          "output_type": "stream",
          "text": [
            "Test Dice: 0.8987\n",
            "Test Dice Kidney: 0.9167\n",
            "Test Dice Tumor: 0.0000\n"
          ]
        },
        {
          "metadata": {
            "tags": null
          },
          "name": "stderr",
          "output_type": "stream",
          "text": [
            "\r  4%|▍         | 4/98 [01:15<28:41, 18.31s/it]"
          ]
        },
        {
          "metadata": {
            "tags": null
          },
          "name": "stdout",
          "output_type": "stream",
          "text": [
            "Test Dice: 0.3336\n",
            "Test Dice Kidney: 0.7055\n",
            "Test Dice Tumor: 0.2106\n"
          ]
        },
        {
          "metadata": {
            "tags": null
          },
          "name": "stderr",
          "output_type": "stream",
          "text": [
            "\r  5%|▌         | 5/98 [01:50<37:36, 24.26s/it]"
          ]
        },
        {
          "metadata": {
            "tags": null
          },
          "name": "stdout",
          "output_type": "stream",
          "text": [
            "Test Dice: 0.8665\n",
            "Test Dice Kidney: 0.8577\n",
            "Test Dice Tumor: 0.0241\n"
          ]
        },
        {
          "metadata": {
            "tags": null
          },
          "name": "stderr",
          "output_type": "stream",
          "text": [
            "\r  6%|▌         | 6/98 [03:12<1:07:07, 43.78s/it]"
          ]
        },
        {
          "metadata": {
            "tags": null
          },
          "name": "stdout",
          "output_type": "stream",
          "text": [
            "Test Dice: 0.8454\n",
            "Test Dice Kidney: 0.8897\n",
            "Test Dice Tumor: 0.6019\n",
            "Test Dice Crystal: 0.0000\n"
          ]
        },
        {
          "metadata": {
            "tags": null
          },
          "name": "stderr",
          "output_type": "stream",
          "text": [
            "\r  7%|▋         | 7/98 [03:25<51:16, 33.81s/it]  "
          ]
        },
        {
          "metadata": {
            "tags": null
          },
          "name": "stdout",
          "output_type": "stream",
          "text": [
            "Test Dice: 0.8574\n",
            "Test Dice Kidney: 0.4359\n",
            "Test Dice Tumor: 0.6785\n",
            "Test Dice Crystal: 0.0000\n"
          ]
        },
        {
          "metadata": {
            "tags": null
          },
          "name": "stderr",
          "output_type": "stream",
          "text": [
            "\r  8%|▊         | 8/98 [03:53<47:59, 31.99s/it]"
          ]
        },
        {
          "metadata": {
            "tags": null
          },
          "name": "stdout",
          "output_type": "stream",
          "text": [
            "Test Dice: 0.8709\n",
            "Test Dice Kidney: 0.8848\n",
            "Test Dice Tumor: 0.0000\n",
            "Test Dice Crystal: 0.0000\n"
          ]
        },
        {
          "metadata": {
            "tags": null
          },
          "name": "stderr",
          "output_type": "stream",
          "text": [
            "\r  9%|▉         | 9/98 [04:21<45:45, 30.84s/it]"
          ]
        },
        {
          "metadata": {
            "tags": null
          },
          "name": "stdout",
          "output_type": "stream",
          "text": [
            "Test Dice: 0.3060\n",
            "Test Dice Kidney: 0.5432\n",
            "Test Dice Tumor: 0.0001\n"
          ]
        },
        {
          "metadata": {
            "tags": null
          },
          "name": "stderr",
          "output_type": "stream",
          "text": [
            "\r 10%|█         | 10/98 [04:57<47:11, 32.18s/it]"
          ]
        },
        {
          "metadata": {
            "tags": null
          },
          "name": "stdout",
          "output_type": "stream",
          "text": [
            "Test Dice: 0.8653\n",
            "Test Dice Kidney: 0.8625\n",
            "Test Dice Tumor: 0.0000\n",
            "Test Dice Crystal: 0.0000\n"
          ]
        },
        {
          "metadata": {
            "tags": null
          },
          "name": "stderr",
          "output_type": "stream",
          "text": [
            "\r 11%|█         | 11/98 [05:09<37:48, 26.07s/it]"
          ]
        },
        {
          "metadata": {
            "tags": null
          },
          "name": "stdout",
          "output_type": "stream",
          "text": [
            "Test Dice: 0.9320\n",
            "Test Dice Kidney: 0.9198\n",
            "Test Dice Tumor: 0.0000\n"
          ]
        },
        {
          "metadata": {
            "tags": null
          },
          "name": "stderr",
          "output_type": "stream",
          "text": [
            "\r 12%|█▏        | 12/98 [05:39<39:04, 27.26s/it]"
          ]
        },
        {
          "metadata": {
            "tags": null
          },
          "name": "stdout",
          "output_type": "stream",
          "text": [
            "Test Dice: 0.8065\n",
            "Test Dice Kidney: 0.8039\n",
            "Test Dice Tumor: 0.0000\n",
            "Test Dice Crystal: 0.0000\n"
          ]
        },
        {
          "metadata": {
            "tags": null
          },
          "name": "stderr",
          "output_type": "stream",
          "text": [
            "\r 13%|█▎        | 13/98 [06:00<35:55, 25.36s/it]"
          ]
        },
        {
          "metadata": {
            "tags": null
          },
          "name": "stdout",
          "output_type": "stream",
          "text": [
            "Test Dice: 0.8081\n",
            "Test Dice Kidney: 0.7599\n",
            "Test Dice Tumor: 0.0031\n",
            "Test Dice Crystal: 0.0000\n"
          ]
        },
        {
          "metadata": {
            "tags": null
          },
          "name": "stderr",
          "output_type": "stream",
          "text": [
            "\r 14%|█▍        | 14/98 [06:13<30:19, 21.66s/it]"
          ]
        },
        {
          "metadata": {
            "tags": null
          },
          "name": "stdout",
          "output_type": "stream",
          "text": [
            "Test Dice: 0.9106\n",
            "Test Dice Kidney: 0.9062\n",
            "Test Dice Tumor: 0.0134\n"
          ]
        },
        {
          "metadata": {
            "tags": null
          },
          "name": "stderr",
          "output_type": "stream",
          "text": [
            "\r 15%|█▌        | 15/98 [06:29<27:32, 19.91s/it]"
          ]
        },
        {
          "metadata": {
            "tags": null
          },
          "name": "stdout",
          "output_type": "stream",
          "text": [
            "Test Dice: 0.8800\n",
            "Test Dice Kidney: 0.8283\n",
            "Test Dice Tumor: 0.1676\n"
          ]
        },
        {
          "metadata": {
            "tags": null
          },
          "name": "stderr",
          "output_type": "stream",
          "text": [
            "\r 16%|█▋        | 16/98 [06:46<26:04, 19.08s/it]"
          ]
        },
        {
          "metadata": {
            "tags": null
          },
          "name": "stdout",
          "output_type": "stream",
          "text": [
            "Test Dice: 0.6250\n",
            "Test Dice Kidney: 0.8167\n",
            "Test Dice Tumor: 0.1891\n"
          ]
        },
        {
          "metadata": {
            "tags": null
          },
          "name": "stderr",
          "output_type": "stream",
          "text": [
            "\r 17%|█▋        | 17/98 [07:14<29:14, 21.66s/it]"
          ]
        },
        {
          "metadata": {
            "tags": null
          },
          "name": "stdout",
          "output_type": "stream",
          "text": [
            "Test Dice: 0.9092\n",
            "Test Dice Kidney: 0.8459\n",
            "Test Dice Tumor: 0.7984\n",
            "Test Dice Crystal: 0.0000\n"
          ]
        },
        {
          "metadata": {
            "tags": null
          },
          "name": "stderr",
          "output_type": "stream",
          "text": [
            "\r 18%|█▊        | 18/98 [07:32<27:31, 20.65s/it]"
          ]
        },
        {
          "metadata": {
            "tags": null
          },
          "name": "stdout",
          "output_type": "stream",
          "text": [
            "Test Dice: 0.3381\n",
            "Test Dice Kidney: 0.7880\n",
            "Test Dice Tumor: 0.0890\n",
            "Test Dice Crystal: 0.0000\n"
          ]
        },
        {
          "metadata": {
            "tags": null
          },
          "name": "stderr",
          "output_type": "stream",
          "text": [
            "\r 19%|█▉        | 19/98 [07:53<27:27, 20.85s/it]"
          ]
        },
        {
          "metadata": {
            "tags": null
          },
          "name": "stdout",
          "output_type": "stream",
          "text": [
            "Test Dice: 0.9387\n",
            "Test Dice Kidney: 0.9082\n",
            "Test Dice Tumor: 0.0370\n"
          ]
        },
        {
          "metadata": {
            "tags": null
          },
          "name": "stderr",
          "output_type": "stream",
          "text": [
            "\r 20%|██        | 20/98 [08:10<25:26, 19.56s/it]"
          ]
        },
        {
          "metadata": {
            "tags": null
          },
          "name": "stdout",
          "output_type": "stream",
          "text": [
            "Test Dice: 0.5237\n",
            "Test Dice Kidney: 0.8395\n",
            "Test Dice Tumor: 0.2195\n",
            "Test Dice Crystal: 0.0000\n"
          ]
        },
        {
          "metadata": {
            "tags": null
          },
          "name": "stderr",
          "output_type": "stream",
          "text": [
            "\r 21%|██▏       | 21/98 [08:35<27:09, 21.16s/it]"
          ]
        },
        {
          "metadata": {
            "tags": null
          },
          "name": "stdout",
          "output_type": "stream",
          "text": [
            "Test Dice: 0.9056\n",
            "Test Dice Kidney: 0.6701\n",
            "Test Dice Tumor: 0.4735\n"
          ]
        },
        {
          "metadata": {
            "tags": null
          },
          "name": "stderr",
          "output_type": "stream",
          "text": [
            "\r 22%|██▏       | 22/98 [09:00<28:13, 22.28s/it]"
          ]
        },
        {
          "metadata": {
            "tags": null
          },
          "name": "stdout",
          "output_type": "stream",
          "text": [
            "Test Dice: 0.7498\n",
            "Test Dice Kidney: 0.7662\n",
            "Test Dice Tumor: 0.5116\n"
          ]
        },
        {
          "metadata": {
            "tags": null
          },
          "name": "stderr",
          "output_type": "stream",
          "text": [
            "\r 23%|██▎       | 23/98 [09:31<31:21, 25.09s/it]"
          ]
        },
        {
          "metadata": {
            "tags": null
          },
          "name": "stdout",
          "output_type": "stream",
          "text": [
            "Test Dice: 0.7425\n",
            "Test Dice Kidney: 0.7331\n",
            "Test Dice Tumor: 0.0000\n"
          ]
        },
        {
          "metadata": {
            "tags": null
          },
          "name": "stderr",
          "output_type": "stream",
          "text": [
            "\r 24%|██▍       | 24/98 [10:04<33:47, 27.40s/it]"
          ]
        },
        {
          "metadata": {
            "tags": null
          },
          "name": "stdout",
          "output_type": "stream",
          "text": [
            "Test Dice: 0.8569\n",
            "Test Dice Kidney: 0.7148\n",
            "Test Dice Tumor: 0.6637\n"
          ]
        },
        {
          "metadata": {
            "tags": null
          },
          "name": "stderr",
          "output_type": "stream",
          "text": [
            "\r 26%|██▌       | 25/98 [10:19<28:51, 23.73s/it]"
          ]
        },
        {
          "metadata": {
            "tags": null
          },
          "name": "stdout",
          "output_type": "stream",
          "text": [
            "Test Dice: 0.5649\n",
            "Test Dice Kidney: 0.6306\n",
            "Test Dice Tumor: 0.0000\n",
            "Test Dice Crystal: 0.0000\n"
          ]
        },
        {
          "metadata": {
            "tags": null
          },
          "name": "stderr",
          "output_type": "stream",
          "text": [
            "\r 27%|██▋       | 26/98 [10:37<26:11, 21.83s/it]"
          ]
        },
        {
          "metadata": {
            "tags": null
          },
          "name": "stdout",
          "output_type": "stream",
          "text": [
            "Test Dice: 0.9215\n",
            "Test Dice Kidney: 0.9119\n",
            "Test Dice Tumor: 0.0000\n"
          ]
        },
        {
          "metadata": {
            "tags": null
          },
          "name": "stderr",
          "output_type": "stream",
          "text": [
            "\r 28%|██▊       | 27/98 [10:54<24:09, 20.42s/it]"
          ]
        },
        {
          "metadata": {
            "tags": null
          },
          "name": "stdout",
          "output_type": "stream",
          "text": [
            "Test Dice: 0.8572\n",
            "Test Dice Kidney: 0.8697\n",
            "Test Dice Tumor: 0.0000\n",
            "Test Dice Crystal: 0.0000\n"
          ]
        },
        {
          "metadata": {
            "tags": null
          },
          "name": "stderr",
          "output_type": "stream",
          "text": [
            "\r 29%|██▊       | 28/98 [11:11<22:46, 19.53s/it]"
          ]
        },
        {
          "metadata": {
            "tags": null
          },
          "name": "stdout",
          "output_type": "stream",
          "text": [
            "Test Dice: 0.8805\n",
            "Test Dice Kidney: 0.8436\n",
            "Test Dice Tumor: 0.0000\n",
            "Test Dice Crystal: 0.0000\n"
          ]
        },
        {
          "metadata": {
            "tags": null
          },
          "name": "stderr",
          "output_type": "stream",
          "text": [
            "\r 30%|██▉       | 29/98 [11:20<18:37, 16.20s/it]"
          ]
        },
        {
          "metadata": {
            "tags": null
          },
          "name": "stdout",
          "output_type": "stream",
          "text": [
            "Test Dice: 0.1949\n",
            "Test Dice Kidney: 0.2283\n",
            "Test Dice Tumor: 0.0000\n",
            "Test Dice Crystal: 0.0000\n"
          ]
        },
        {
          "metadata": {
            "tags": null
          },
          "name": "stderr",
          "output_type": "stream",
          "text": [
            "\r 31%|███       | 30/98 [11:35<18:08, 16.01s/it]"
          ]
        },
        {
          "metadata": {
            "tags": null
          },
          "name": "stdout",
          "output_type": "stream",
          "text": [
            "Test Dice: 0.8534\n",
            "Test Dice Kidney: 0.7929\n",
            "Test Dice Tumor: 0.7500\n"
          ]
        },
        {
          "metadata": {
            "tags": null
          },
          "name": "stderr",
          "output_type": "stream",
          "text": [
            "\r 32%|███▏      | 31/98 [11:52<18:06, 16.21s/it]"
          ]
        },
        {
          "metadata": {
            "tags": null
          },
          "name": "stdout",
          "output_type": "stream",
          "text": [
            "Test Dice: 0.9534\n",
            "Test Dice Kidney: 0.9549\n",
            "Test Dice Tumor: 0.0000\n"
          ]
        },
        {
          "metadata": {
            "tags": null
          },
          "name": "stderr",
          "output_type": "stream",
          "text": [
            "\r 33%|███▎      | 32/98 [12:28<24:30, 22.27s/it]"
          ]
        },
        {
          "metadata": {
            "tags": null
          },
          "name": "stdout",
          "output_type": "stream",
          "text": [
            "Test Dice: 0.6800\n",
            "Test Dice Kidney: 0.7227\n",
            "Test Dice Tumor: 0.0284\n"
          ]
        },
        {
          "metadata": {
            "tags": null
          },
          "name": "stderr",
          "output_type": "stream",
          "text": [
            "\r 34%|███▎      | 33/98 [12:50<23:52, 22.04s/it]"
          ]
        },
        {
          "metadata": {
            "tags": null
          },
          "name": "stdout",
          "output_type": "stream",
          "text": [
            "Test Dice: 0.8235\n",
            "Test Dice Kidney: 0.8475\n",
            "Test Dice Tumor: 0.0000\n",
            "Test Dice Crystal: 0.0000\n"
          ]
        },
        {
          "metadata": {
            "tags": null
          },
          "name": "stderr",
          "output_type": "stream",
          "text": [
            "\r 35%|███▍      | 34/98 [12:58<19:16, 18.07s/it]"
          ]
        },
        {
          "metadata": {
            "tags": null
          },
          "name": "stdout",
          "output_type": "stream",
          "text": [
            "Test Dice: 0.8805\n",
            "Test Dice Kidney: 0.8902\n",
            "Test Dice Tumor: 0.0000\n"
          ]
        },
        {
          "metadata": {
            "tags": null
          },
          "name": "stderr",
          "output_type": "stream",
          "text": [
            "\r 36%|███▌      | 35/98 [13:21<20:28, 19.51s/it]"
          ]
        },
        {
          "metadata": {
            "tags": null
          },
          "name": "stdout",
          "output_type": "stream",
          "text": [
            "Test Dice: 0.8866\n",
            "Test Dice Kidney: 0.8923\n",
            "Test Dice Tumor: 0.0000\n"
          ]
        },
        {
          "metadata": {
            "tags": null
          },
          "name": "stderr",
          "output_type": "stream",
          "text": [
            "\r 37%|███▋      | 36/98 [14:06<28:02, 27.14s/it]"
          ]
        },
        {
          "metadata": {
            "tags": null
          },
          "name": "stdout",
          "output_type": "stream",
          "text": [
            "Test Dice: 0.8216\n",
            "Test Dice Kidney: 0.8006\n",
            "Test Dice Tumor: 0.4778\n",
            "Test Dice Crystal: 0.0000\n"
          ]
        },
        {
          "metadata": {
            "tags": null
          },
          "name": "stderr",
          "output_type": "stream",
          "text": [
            "\r 38%|███▊      | 37/98 [14:28<25:50, 25.42s/it]"
          ]
        },
        {
          "metadata": {
            "tags": null
          },
          "name": "stdout",
          "output_type": "stream",
          "text": [
            "Test Dice: 0.8988\n",
            "Test Dice Kidney: 0.8989\n",
            "Test Dice Tumor: 0.0000\n"
          ]
        },
        {
          "metadata": {
            "tags": null
          },
          "name": "stderr",
          "output_type": "stream",
          "text": [
            "\r 39%|███▉      | 38/98 [14:44<22:39, 22.66s/it]"
          ]
        },
        {
          "metadata": {
            "tags": null
          },
          "name": "stdout",
          "output_type": "stream",
          "text": [
            "Test Dice: 0.7798\n",
            "Test Dice Kidney: 0.7200\n",
            "Test Dice Tumor: 0.0094\n"
          ]
        },
        {
          "metadata": {
            "tags": null
          },
          "name": "stderr",
          "output_type": "stream",
          "text": [
            "\r 40%|███▉      | 39/98 [14:58<19:37, 19.96s/it]"
          ]
        },
        {
          "metadata": {
            "tags": null
          },
          "name": "stdout",
          "output_type": "stream",
          "text": [
            "Test Dice: 0.9456\n",
            "Test Dice Kidney: 0.9410\n",
            "Test Dice Tumor: 0.0000\n"
          ]
        },
        {
          "metadata": {
            "tags": null
          },
          "name": "stderr",
          "output_type": "stream",
          "text": [
            "\r 41%|████      | 40/98 [15:14<18:17, 18.92s/it]"
          ]
        },
        {
          "metadata": {
            "tags": null
          },
          "name": "stdout",
          "output_type": "stream",
          "text": [
            "Test Dice: 0.9395\n",
            "Test Dice Kidney: 0.9162\n",
            "Test Dice Tumor: 0.0000\n",
            "Test Dice Crystal: 0.0000\n"
          ]
        },
        {
          "metadata": {
            "tags": null
          },
          "name": "stderr",
          "output_type": "stream",
          "text": [
            "\r 42%|████▏     | 41/98 [15:44<21:01, 22.13s/it]"
          ]
        },
        {
          "metadata": {
            "tags": null
          },
          "name": "stdout",
          "output_type": "stream",
          "text": [
            "Test Dice: 0.8436\n",
            "Test Dice Kidney: 0.8208\n",
            "Test Dice Tumor: 0.0000\n",
            "Test Dice Crystal: 0.0000\n"
          ]
        },
        {
          "metadata": {
            "tags": null
          },
          "name": "stderr",
          "output_type": "stream",
          "text": [
            "\r 43%|████▎     | 42/98 [15:54<17:13, 18.46s/it]"
          ]
        },
        {
          "metadata": {
            "tags": null
          },
          "name": "stdout",
          "output_type": "stream",
          "text": [
            "Test Dice: 0.7920\n",
            "Test Dice Kidney: 0.7827\n",
            "Test Dice Tumor: 0.0000\n"
          ]
        },
        {
          "metadata": {
            "tags": null
          },
          "name": "stderr",
          "output_type": "stream",
          "text": [
            "\r 44%|████▍     | 43/98 [16:18<18:34, 20.26s/it]"
          ]
        },
        {
          "metadata": {
            "tags": null
          },
          "name": "stdout",
          "output_type": "stream",
          "text": [
            "Test Dice: 0.9341\n",
            "Test Dice Kidney: 0.8811\n",
            "Test Dice Tumor: 0.1244\n",
            "Test Dice Crystal: 0.0000\n"
          ]
        },
        {
          "metadata": {
            "tags": null
          },
          "name": "stderr",
          "output_type": "stream",
          "text": [
            "\r 45%|████▍     | 44/98 [16:30<15:52, 17.63s/it]"
          ]
        },
        {
          "metadata": {
            "tags": null
          },
          "name": "stdout",
          "output_type": "stream",
          "text": [
            "Test Dice: 0.9433\n",
            "Test Dice Kidney: 0.9082\n",
            "Test Dice Tumor: 0.0003\n",
            "Test Dice Crystal: 0.0000\n"
          ]
        },
        {
          "metadata": {
            "tags": null
          },
          "name": "stderr",
          "output_type": "stream",
          "text": [
            "\r 46%|████▌     | 45/98 [16:49<15:59, 18.11s/it]"
          ]
        },
        {
          "metadata": {
            "tags": null
          },
          "name": "stdout",
          "output_type": "stream",
          "text": [
            "Test Dice: 0.8865\n",
            "Test Dice Kidney: 0.8427\n",
            "Test Dice Tumor: 0.0744\n",
            "Test Dice Crystal: 0.0000\n"
          ]
        },
        {
          "metadata": {
            "tags": null
          },
          "name": "stderr",
          "output_type": "stream",
          "text": [
            "\r 47%|████▋     | 46/98 [17:12<16:58, 19.59s/it]"
          ]
        },
        {
          "metadata": {
            "tags": null
          },
          "name": "stdout",
          "output_type": "stream",
          "text": [
            "Test Dice: 0.7751\n",
            "Test Dice Kidney: 0.8100\n",
            "Test Dice Tumor: 0.1894\n",
            "Test Dice Crystal: 0.0000\n"
          ]
        },
        {
          "metadata": {
            "tags": null
          },
          "name": "stderr",
          "output_type": "stream",
          "text": [
            "\r 48%|████▊     | 47/98 [17:29<15:57, 18.78s/it]"
          ]
        },
        {
          "metadata": {
            "tags": null
          },
          "name": "stdout",
          "output_type": "stream",
          "text": [
            "Test Dice: 0.8142\n",
            "Test Dice Kidney: 0.7962\n",
            "Test Dice Tumor: 0.0034\n"
          ]
        },
        {
          "metadata": {
            "tags": null
          },
          "name": "stderr",
          "output_type": "stream",
          "text": [
            "\r 49%|████▉     | 48/98 [17:47<15:31, 18.63s/it]"
          ]
        },
        {
          "metadata": {
            "tags": null
          },
          "name": "stdout",
          "output_type": "stream",
          "text": [
            "Test Dice: 0.8004\n",
            "Test Dice Kidney: 0.7582\n",
            "Test Dice Tumor: 0.4461\n",
            "Test Dice Crystal: 0.0000\n"
          ]
        },
        {
          "metadata": {
            "tags": null
          },
          "name": "stderr",
          "output_type": "stream",
          "text": [
            "\r 50%|█████     | 49/98 [17:59<13:38, 16.71s/it]"
          ]
        },
        {
          "metadata": {
            "tags": null
          },
          "name": "stdout",
          "output_type": "stream",
          "text": [
            "Test Dice: 0.9657\n",
            "Test Dice Kidney: 0.9283\n",
            "Test Dice Tumor: 0.0000\n"
          ]
        },
        {
          "metadata": {
            "tags": null
          },
          "name": "stderr",
          "output_type": "stream",
          "text": [
            "\r 51%|█████     | 50/98 [18:19<14:02, 17.56s/it]"
          ]
        },
        {
          "metadata": {
            "tags": null
          },
          "name": "stdout",
          "output_type": "stream",
          "text": [
            "Test Dice: 0.8843\n",
            "Test Dice Kidney: 0.8801\n",
            "Test Dice Tumor: 0.0156\n"
          ]
        },
        {
          "metadata": {
            "tags": null
          },
          "name": "stderr",
          "output_type": "stream",
          "text": [
            "\r 52%|█████▏    | 51/98 [18:34<13:05, 16.72s/it]"
          ]
        },
        {
          "metadata": {
            "tags": null
          },
          "name": "stdout",
          "output_type": "stream",
          "text": [
            "Test Dice: 0.5400\n",
            "Test Dice Kidney: 0.4346\n",
            "Test Dice Tumor: 0.5361\n",
            "Test Dice Crystal: 0.0000\n"
          ]
        },
        {
          "metadata": {
            "tags": null
          },
          "name": "stderr",
          "output_type": "stream",
          "text": [
            "\r 53%|█████▎    | 52/98 [18:55<13:51, 18.08s/it]"
          ]
        },
        {
          "metadata": {
            "tags": null
          },
          "name": "stdout",
          "output_type": "stream",
          "text": [
            "Test Dice: 0.8502\n",
            "Test Dice Kidney: 0.8929\n",
            "Test Dice Tumor: 0.0000\n"
          ]
        },
        {
          "metadata": {
            "tags": null
          },
          "name": "stderr",
          "output_type": "stream",
          "text": [
            "\r 54%|█████▍    | 53/98 [19:26<16:35, 22.12s/it]"
          ]
        },
        {
          "metadata": {
            "tags": null
          },
          "name": "stdout",
          "output_type": "stream",
          "text": [
            "Test Dice: 0.8956\n",
            "Test Dice Kidney: 0.8922\n",
            "Test Dice Tumor: 0.1604\n",
            "Test Dice Crystal: 0.0000\n"
          ]
        },
        {
          "metadata": {
            "tags": null
          },
          "name": "stderr",
          "output_type": "stream",
          "text": [
            "\r 55%|█████▌    | 54/98 [20:08<20:33, 28.02s/it]"
          ]
        },
        {
          "metadata": {
            "tags": null
          },
          "name": "stdout",
          "output_type": "stream",
          "text": [
            "Test Dice: 0.6326\n",
            "Test Dice Kidney: 0.6768\n",
            "Test Dice Tumor: 0.0141\n",
            "Test Dice Crystal: 0.0000\n"
          ]
        },
        {
          "metadata": {
            "tags": null
          },
          "name": "stderr",
          "output_type": "stream",
          "text": [
            "\r 56%|█████▌    | 55/98 [20:24<17:21, 24.23s/it]"
          ]
        },
        {
          "metadata": {
            "tags": null
          },
          "name": "stdout",
          "output_type": "stream",
          "text": [
            "Test Dice: 0.8244\n",
            "Test Dice Kidney: 0.8305\n",
            "Test Dice Tumor: 0.0000\n",
            "Test Dice Crystal: 0.0000\n"
          ]
        },
        {
          "metadata": {
            "tags": null
          },
          "name": "stderr",
          "output_type": "stream",
          "text": [
            "\r 57%|█████▋    | 56/98 [20:40<15:24, 22.00s/it]"
          ]
        },
        {
          "metadata": {
            "tags": null
          },
          "name": "stdout",
          "output_type": "stream",
          "text": [
            "Test Dice: 0.5368\n",
            "Test Dice Kidney: 0.7878\n",
            "Test Dice Tumor: 0.0000\n"
          ]
        },
        {
          "metadata": {
            "tags": null
          },
          "name": "stderr",
          "output_type": "stream",
          "text": [
            "\r 58%|█████▊    | 57/98 [21:00<14:39, 21.45s/it]"
          ]
        },
        {
          "metadata": {
            "tags": null
          },
          "name": "stdout",
          "output_type": "stream",
          "text": [
            "Test Dice: 0.7606\n",
            "Test Dice Kidney: 0.8247\n",
            "Test Dice Tumor: 0.0278\n"
          ]
        },
        {
          "metadata": {
            "tags": null
          },
          "name": "stderr",
          "output_type": "stream",
          "text": [
            "\r 59%|█████▉    | 58/98 [21:30<15:51, 23.79s/it]"
          ]
        },
        {
          "metadata": {
            "tags": null
          },
          "name": "stdout",
          "output_type": "stream",
          "text": [
            "Test Dice: 0.8600\n",
            "Test Dice Kidney: 0.8800\n",
            "Test Dice Tumor: 0.0000\n",
            "Test Dice Crystal: 0.0000\n"
          ]
        },
        {
          "metadata": {
            "tags": null
          },
          "name": "stderr",
          "output_type": "stream",
          "text": [
            "\r 60%|██████    | 59/98 [22:05<17:44, 27.30s/it]"
          ]
        },
        {
          "metadata": {
            "tags": null
          },
          "name": "stdout",
          "output_type": "stream",
          "text": [
            "Test Dice: 0.9107\n",
            "Test Dice Kidney: 0.9042\n",
            "Test Dice Tumor: 0.0000\n",
            "Test Dice Crystal: 0.0000\n"
          ]
        },
        {
          "metadata": {
            "tags": null
          },
          "name": "stderr",
          "output_type": "stream",
          "text": [
            "\r 61%|██████    | 60/98 [22:18<14:27, 22.82s/it]"
          ]
        },
        {
          "metadata": {
            "tags": null
          },
          "name": "stdout",
          "output_type": "stream",
          "text": [
            "Test Dice: 0.9208\n",
            "Test Dice Kidney: 0.9057\n",
            "Test Dice Tumor: 0.0000\n"
          ]
        },
        {
          "metadata": {
            "tags": null
          },
          "name": "stderr",
          "output_type": "stream",
          "text": [
            "\r 62%|██████▏   | 61/98 [22:28<11:50, 19.20s/it]"
          ]
        },
        {
          "metadata": {
            "tags": null
          },
          "name": "stdout",
          "output_type": "stream",
          "text": [
            "Test Dice: 0.8450\n",
            "Test Dice Kidney: 0.8574\n",
            "Test Dice Tumor: 0.0000\n"
          ]
        },
        {
          "metadata": {
            "tags": null
          },
          "name": "stderr",
          "output_type": "stream",
          "text": [
            "\r 63%|██████▎   | 62/98 [22:51<12:11, 20.33s/it]"
          ]
        },
        {
          "metadata": {
            "tags": null
          },
          "name": "stdout",
          "output_type": "stream",
          "text": [
            "Test Dice: 0.7221\n",
            "Test Dice Kidney: 0.7297\n",
            "Test Dice Tumor: 0.3798\n",
            "Test Dice Crystal: 0.0000\n"
          ]
        },
        {
          "metadata": {
            "tags": null
          },
          "name": "stderr",
          "output_type": "stream",
          "text": [
            "\r 64%|██████▍   | 63/98 [23:10<11:30, 19.73s/it]"
          ]
        },
        {
          "metadata": {
            "tags": null
          },
          "name": "stdout",
          "output_type": "stream",
          "text": [
            "Test Dice: 0.8918\n",
            "Test Dice Kidney: 0.8686\n",
            "Test Dice Tumor: 0.0000\n",
            "Test Dice Crystal: 0.0000\n"
          ]
        },
        {
          "metadata": {
            "tags": null
          },
          "name": "stderr",
          "output_type": "stream",
          "text": [
            "\r 65%|██████▌   | 64/98 [23:30<11:16, 19.90s/it]"
          ]
        },
        {
          "metadata": {
            "tags": null
          },
          "name": "stdout",
          "output_type": "stream",
          "text": [
            "Test Dice: 0.7990\n",
            "Test Dice Kidney: 0.9510\n",
            "Test Dice Tumor: 0.0000\n"
          ]
        },
        {
          "output_type": "stream",
          "name": "stderr",
          "text": [
            "\r 66%|██████▋   | 65/98 [23:52<11:22, 20.68s/it]"
          ]
        },
        {
          "output_type": "stream",
          "name": "stdout",
          "text": [
            "Test Dice: 0.8953\n",
            "Test Dice Kidney: 0.8985\n",
            "Test Dice Tumor: 0.2494\n"
          ]
        },
        {
          "output_type": "stream",
          "name": "stderr",
          "text": [
            "\r 67%|██████▋   | 66/98 [24:12<10:55, 20.49s/it]"
          ]
        },
        {
          "output_type": "stream",
          "name": "stdout",
          "text": [
            "Test Dice: 0.8129\n",
            "Test Dice Kidney: 0.8125\n",
            "Test Dice Tumor: 0.0000\n"
          ]
        },
        {
          "output_type": "stream",
          "name": "stderr",
          "text": [
            "\r 68%|██████▊   | 67/98 [24:24<09:11, 17.78s/it]"
          ]
        },
        {
          "output_type": "stream",
          "name": "stdout",
          "text": [
            "Test Dice: 0.8226\n",
            "Test Dice Kidney: 0.8391\n",
            "Test Dice Tumor: 0.0284\n"
          ]
        },
        {
          "output_type": "stream",
          "name": "stderr",
          "text": [
            "\r 69%|██████▉   | 68/98 [24:39<08:32, 17.08s/it]"
          ]
        },
        {
          "output_type": "stream",
          "name": "stdout",
          "text": [
            "Test Dice: 0.8694\n",
            "Test Dice Kidney: 0.6286\n",
            "Test Dice Tumor: 0.6837\n"
          ]
        },
        {
          "output_type": "stream",
          "name": "stderr",
          "text": [
            "\r 70%|███████   | 69/98 [24:49<07:14, 14.97s/it]"
          ]
        },
        {
          "output_type": "stream",
          "name": "stdout",
          "text": [
            "Test Dice: 0.9204\n",
            "Test Dice Kidney: 0.9312\n",
            "Test Dice Tumor: 0.0000\n"
          ]
        },
        {
          "output_type": "stream",
          "name": "stderr",
          "text": [
            "\r 71%|███████▏  | 70/98 [25:11<07:56, 17.02s/it]"
          ]
        },
        {
          "output_type": "stream",
          "name": "stdout",
          "text": [
            "Test Dice: 0.9511\n",
            "Test Dice Kidney: 0.9453\n",
            "Test Dice Tumor: 0.0000\n",
            "Test Dice Crystal: 0.0000\n"
          ]
        },
        {
          "output_type": "stream",
          "name": "stderr",
          "text": [
            "\r 72%|███████▏  | 71/98 [25:36<08:39, 19.25s/it]"
          ]
        },
        {
          "output_type": "stream",
          "name": "stdout",
          "text": [
            "Test Dice: 0.6373\n",
            "Test Dice Kidney: 0.6393\n",
            "Test Dice Tumor: 0.0000\n"
          ]
        },
        {
          "output_type": "stream",
          "name": "stderr",
          "text": [
            "\r 73%|███████▎  | 72/98 [26:05<09:37, 22.20s/it]"
          ]
        },
        {
          "output_type": "stream",
          "name": "stdout",
          "text": [
            "Test Dice: 0.8214\n",
            "Test Dice Kidney: 0.7935\n",
            "Test Dice Tumor: 0.0000\n"
          ]
        },
        {
          "output_type": "stream",
          "name": "stderr",
          "text": [
            "\r 74%|███████▍  | 73/98 [26:18<08:09, 19.56s/it]"
          ]
        },
        {
          "output_type": "stream",
          "name": "stdout",
          "text": [
            "Test Dice: 0.8066\n",
            "Test Dice Kidney: 0.8126\n",
            "Test Dice Tumor: 0.0000\n"
          ]
        },
        {
          "output_type": "stream",
          "name": "stderr",
          "text": [
            "\r 76%|███████▌  | 74/98 [26:56<10:01, 25.07s/it]"
          ]
        },
        {
          "output_type": "stream",
          "name": "stdout",
          "text": [
            "Test Dice: 0.5353\n",
            "Test Dice Kidney: 0.6836\n",
            "Test Dice Tumor: 0.1082\n",
            "Test Dice Crystal: 0.0000\n"
          ]
        },
        {
          "output_type": "stream",
          "name": "stderr",
          "text": [
            "\r 77%|███████▋  | 75/98 [27:10<08:18, 21.67s/it]"
          ]
        },
        {
          "output_type": "stream",
          "name": "stdout",
          "text": [
            "Test Dice: 0.9282\n",
            "Test Dice Kidney: 0.9299\n",
            "Test Dice Tumor: 0.0000\n"
          ]
        },
        {
          "output_type": "stream",
          "name": "stderr",
          "text": [
            "\r 78%|███████▊  | 76/98 [27:37<08:31, 23.26s/it]"
          ]
        },
        {
          "output_type": "stream",
          "name": "stdout",
          "text": [
            "Test Dice: 0.7199\n",
            "Test Dice Kidney: 0.5261\n",
            "Test Dice Tumor: 0.7032\n"
          ]
        },
        {
          "output_type": "stream",
          "name": "stderr",
          "text": [
            "\r 79%|███████▊  | 77/98 [27:50<07:05, 20.25s/it]"
          ]
        },
        {
          "output_type": "stream",
          "name": "stdout",
          "text": [
            "Test Dice: 0.9499\n",
            "Test Dice Kidney: 0.8826\n",
            "Test Dice Tumor: 0.4590\n"
          ]
        },
        {
          "output_type": "stream",
          "name": "stderr",
          "text": [
            "\r 80%|███████▉  | 78/98 [28:09<06:35, 19.76s/it]"
          ]
        },
        {
          "output_type": "stream",
          "name": "stdout",
          "text": [
            "Test Dice: 0.8927\n",
            "Test Dice Kidney: 0.8847\n",
            "Test Dice Tumor: 0.0067\n",
            "Test Dice Crystal: 0.0000\n"
          ]
        },
        {
          "output_type": "stream",
          "name": "stderr",
          "text": [
            "\r 81%|████████  | 79/98 [28:29<06:16, 19.80s/it]"
          ]
        },
        {
          "output_type": "stream",
          "name": "stdout",
          "text": [
            "Test Dice: 0.9407\n",
            "Test Dice Kidney: 0.9333\n",
            "Test Dice Tumor: 0.0000\n",
            "Test Dice Crystal: 0.0000\n"
          ]
        },
        {
          "output_type": "stream",
          "name": "stderr",
          "text": [
            "\r 82%|████████▏ | 80/98 [28:49<05:59, 19.95s/it]"
          ]
        },
        {
          "output_type": "stream",
          "name": "stdout",
          "text": [
            "Test Dice: 0.8200\n",
            "Test Dice Kidney: 0.7730\n",
            "Test Dice Tumor: 0.0000\n"
          ]
        },
        {
          "output_type": "stream",
          "name": "stderr",
          "text": [
            "\r 83%|████████▎ | 81/98 [29:22<06:45, 23.84s/it]"
          ]
        },
        {
          "output_type": "stream",
          "name": "stdout",
          "text": [
            "Test Dice: 0.7831\n",
            "Test Dice Kidney: 0.8681\n",
            "Test Dice Tumor: 0.0350\n"
          ]
        },
        {
          "output_type": "stream",
          "name": "stderr",
          "text": [
            "\r 84%|████████▎ | 82/98 [29:40<05:55, 22.21s/it]"
          ]
        },
        {
          "output_type": "stream",
          "name": "stdout",
          "text": [
            "Test Dice: 0.7558\n",
            "Test Dice Kidney: 0.7465\n",
            "Test Dice Tumor: 0.0000\n",
            "Test Dice Crystal: 0.0000\n"
          ]
        },
        {
          "output_type": "stream",
          "name": "stderr",
          "text": [
            "\r 85%|████████▍ | 83/98 [30:04<05:40, 22.69s/it]"
          ]
        },
        {
          "output_type": "stream",
          "name": "stdout",
          "text": [
            "Test Dice: 0.9265\n",
            "Test Dice Kidney: 0.9118\n",
            "Test Dice Tumor: 0.0000\n",
            "Test Dice Crystal: 0.0000\n"
          ]
        },
        {
          "output_type": "stream",
          "name": "stderr",
          "text": [
            "\r 86%|████████▌ | 84/98 [30:43<06:28, 27.72s/it]"
          ]
        },
        {
          "output_type": "stream",
          "name": "stdout",
          "text": [
            "Test Dice: 0.8499\n",
            "Test Dice Kidney: 0.8422\n",
            "Test Dice Tumor: 0.0069\n"
          ]
        },
        {
          "output_type": "stream",
          "name": "stderr",
          "text": [
            "\r 87%|████████▋ | 85/98 [30:54<04:53, 22.60s/it]"
          ]
        },
        {
          "output_type": "stream",
          "name": "stdout",
          "text": [
            "Test Dice: 0.9402\n",
            "Test Dice Kidney: 0.9298\n",
            "Test Dice Tumor: 0.2855\n",
            "Test Dice Crystal: 0.0000\n"
          ]
        },
        {
          "output_type": "stream",
          "name": "stderr",
          "text": [
            "\r 88%|████████▊ | 86/98 [31:10<04:06, 20.54s/it]"
          ]
        },
        {
          "output_type": "stream",
          "name": "stdout",
          "text": [
            "Test Dice: 0.9003\n",
            "Test Dice Kidney: 0.9080\n",
            "Test Dice Tumor: 0.0003\n",
            "Test Dice Crystal: 0.0000\n"
          ]
        },
        {
          "output_type": "stream",
          "name": "stderr",
          "text": [
            "\r 89%|████████▉ | 87/98 [31:36<04:05, 22.35s/it]"
          ]
        },
        {
          "output_type": "stream",
          "name": "stdout",
          "text": [
            "Test Dice: 0.7221\n",
            "Test Dice Kidney: 0.7826\n",
            "Test Dice Tumor: 0.1423\n"
          ]
        },
        {
          "output_type": "stream",
          "name": "stderr",
          "text": [
            "\r 90%|████████▉ | 88/98 [31:58<03:39, 22.00s/it]"
          ]
        },
        {
          "output_type": "stream",
          "name": "stdout",
          "text": [
            "Test Dice: 0.7285\n",
            "Test Dice Kidney: 0.8089\n",
            "Test Dice Tumor: 0.0000\n",
            "Test Dice Crystal: 0.0000\n"
          ]
        },
        {
          "output_type": "stream",
          "name": "stderr",
          "text": [
            "\r 91%|█████████ | 89/98 [32:07<02:44, 18.29s/it]"
          ]
        },
        {
          "output_type": "stream",
          "name": "stdout",
          "text": [
            "Test Dice: 0.9270\n",
            "Test Dice Kidney: 0.8892\n",
            "Test Dice Tumor: 0.3102\n",
            "Test Dice Crystal: 0.0000\n"
          ]
        },
        {
          "output_type": "stream",
          "name": "stderr",
          "text": [
            "\r 92%|█████████▏| 90/98 [32:17<02:04, 15.60s/it]"
          ]
        },
        {
          "output_type": "stream",
          "name": "stdout",
          "text": [
            "Test Dice: 0.7775\n",
            "Test Dice Kidney: 0.8102\n",
            "Test Dice Tumor: 0.0000\n",
            "Test Dice Crystal: 0.0000\n"
          ]
        },
        {
          "output_type": "stream",
          "name": "stderr",
          "text": [
            "\r 93%|█████████▎| 91/98 [32:41<02:06, 18.14s/it]"
          ]
        },
        {
          "output_type": "stream",
          "name": "stdout",
          "text": [
            "Test Dice: 0.8479\n",
            "Test Dice Kidney: 0.8497\n",
            "Test Dice Tumor: 0.0000\n"
          ]
        },
        {
          "output_type": "stream",
          "name": "stderr",
          "text": [
            "\r 94%|█████████▍| 92/98 [32:48<01:29, 14.92s/it]"
          ]
        },
        {
          "output_type": "stream",
          "name": "stdout",
          "text": [
            "Test Dice: 0.0064\n",
            "Test Dice Kidney: 0.0078\n",
            "Test Dice Tumor: 0.0000\n"
          ]
        },
        {
          "output_type": "stream",
          "name": "stderr",
          "text": [
            "\r 95%|█████████▍| 93/98 [33:21<01:41, 20.31s/it]"
          ]
        },
        {
          "output_type": "stream",
          "name": "stdout",
          "text": [
            "Test Dice: 0.8318\n",
            "Test Dice Kidney: 0.8333\n",
            "Test Dice Tumor: 0.0000\n"
          ]
        },
        {
          "output_type": "stream",
          "name": "stderr",
          "text": [
            "\r 96%|█████████▌| 94/98 [33:51<01:32, 23.12s/it]"
          ]
        },
        {
          "output_type": "stream",
          "name": "stdout",
          "text": [
            "Test Dice: 0.8694\n",
            "Test Dice Kidney: 0.8447\n",
            "Test Dice Tumor: 0.6897\n",
            "Test Dice Crystal: 0.0000\n"
          ]
        },
        {
          "output_type": "stream",
          "name": "stderr",
          "text": [
            "\r 97%|█████████▋| 95/98 [34:05<01:01, 20.58s/it]"
          ]
        },
        {
          "output_type": "stream",
          "name": "stdout",
          "text": [
            "Test Dice: 0.8889\n",
            "Test Dice Kidney: 0.8811\n",
            "Test Dice Tumor: 0.1724\n"
          ]
        },
        {
          "output_type": "stream",
          "name": "stderr",
          "text": [
            "\r 98%|█████████▊| 96/98 [34:26<00:41, 20.66s/it]"
          ]
        },
        {
          "output_type": "stream",
          "name": "stdout",
          "text": [
            "Test Dice: 0.7064\n",
            "Test Dice Kidney: 0.7728\n",
            "Test Dice Tumor: 0.4815\n"
          ]
        },
        {
          "output_type": "stream",
          "name": "stderr",
          "text": [
            "\r 99%|█████████▉| 97/98 [34:57<00:23, 23.74s/it]"
          ]
        },
        {
          "output_type": "stream",
          "name": "stdout",
          "text": [
            "Test Dice: 0.9228\n",
            "Test Dice Kidney: 0.8176\n",
            "Test Dice Tumor: 0.0187\n",
            "Test Dice Crystal: 0.0000\n"
          ]
        },
        {
          "output_type": "stream",
          "name": "stderr",
          "text": [
            "100%|██████████| 98/98 [35:22<00:00, 21.66s/it]"
          ]
        },
        {
          "output_type": "stream",
          "name": "stdout",
          "text": [
            "Test Dice: 0.8123\n",
            "Test Dice Kidney: 0.7527\n",
            "Test Dice Tumor: 0.0000\n",
            "Dice: 0.7973\n",
            "Dice Kidney: 0.8027\n",
            "Dice Tumor: 0.1316\n",
            "Dice Cyst: 0.0000\n"
          ]
        },
        {
          "output_type": "stream",
          "name": "stderr",
          "text": [
            "\n"
          ]
        }
      ]
    },
    {
      "cell_type": "code",
      "source": [
        "model = UNet3D()\n",
        "device = torch.device('cuda' if torch.cuda.is_available() else 'cpu')\n",
        "\n",
        "checkpoint_path = '/content/drive/MyDrive/Computer Vision Project/Unet3D_128_2nd/checkpoint_UNet_epoch_5.pth'\n",
        "if os.path.exists(checkpoint_path):\n",
        "    checkpoint = torch.load(checkpoint_path, map_location=device)\n",
        "    model.load_state_dict(checkpoint['model_state_dict'])\n",
        "\n",
        "dice_score, dice_score_kidney, dice_score_tumor, dice_score_cyst = test_model(model, test_dataloader, device)"
      ],
      "metadata": {
        "id": "ubTLg-WFQQXe",
        "colab": {
          "base_uri": "https://localhost:8080/"
        },
        "outputId": "0c6337b5-db4f-4a81-9654-0e14e40ec730"
      },
      "execution_count": null,
      "outputs": [
        {
          "output_type": "stream",
          "name": "stderr",
          "text": [
            "<ipython-input-10-c7b0913cafee>:6: FutureWarning: You are using `torch.load` with `weights_only=False` (the current default value), which uses the default pickle module implicitly. It is possible to construct malicious pickle data which will execute arbitrary code during unpickling (See https://github.com/pytorch/pytorch/blob/main/SECURITY.md#untrusted-models for more details). In a future release, the default value for `weights_only` will be flipped to `True`. This limits the functions that could be executed during unpickling. Arbitrary objects will no longer be allowed to be loaded via this mode unless they are explicitly allowlisted by the user via `torch.serialization.add_safe_globals`. We recommend you start setting `weights_only=True` for any use case where you don't have full control of the loaded file. Please open an issue on GitHub for any issues related to this experimental feature.\n",
            "  checkpoint = torch.load(checkpoint_path, map_location=device)\n",
            "  0%|          | 0/98 [00:00<?, ?it/s]<ipython-input-4-3434f6aab843>:13: FutureWarning: You are using `torch.load` with `weights_only=False` (the current default value), which uses the default pickle module implicitly. It is possible to construct malicious pickle data which will execute arbitrary code during unpickling (See https://github.com/pytorch/pytorch/blob/main/SECURITY.md#untrusted-models for more details). In a future release, the default value for `weights_only` will be flipped to `True`. This limits the functions that could be executed during unpickling. Arbitrary objects will no longer be allowed to be loaded via this mode unless they are explicitly allowlisted by the user via `torch.serialization.add_safe_globals`. We recommend you start setting `weights_only=True` for any use case where you don't have full control of the loaded file. Please open an issue on GitHub for any issues related to this experimental feature.\n",
            "  image = torch.load(image_path)\n",
            "<ipython-input-4-3434f6aab843>:14: FutureWarning: You are using `torch.load` with `weights_only=False` (the current default value), which uses the default pickle module implicitly. It is possible to construct malicious pickle data which will execute arbitrary code during unpickling (See https://github.com/pytorch/pytorch/blob/main/SECURITY.md#untrusted-models for more details). In a future release, the default value for `weights_only` will be flipped to `True`. This limits the functions that could be executed during unpickling. Arbitrary objects will no longer be allowed to be loaded via this mode unless they are explicitly allowlisted by the user via `torch.serialization.add_safe_globals`. We recommend you start setting `weights_only=True` for any use case where you don't have full control of the loaded file. Please open an issue on GitHub for any issues related to this experimental feature.\n",
            "  label = torch.load(label_path)\n",
            "  1%|          | 1/98 [00:02<04:31,  2.80s/it]"
          ]
        },
        {
          "output_type": "stream",
          "name": "stdout",
          "text": [
            "Test Dice: 0.5485\n",
            "Test Dice Kidney: 0.5253\n",
            "Test Dice Tumor: 0.2562\n",
            "Test Dice Crystal: 0.0000\n"
          ]
        },
        {
          "output_type": "stream",
          "name": "stderr",
          "text": [
            "\r  2%|▏         | 2/98 [00:15<13:30,  8.44s/it]"
          ]
        },
        {
          "output_type": "stream",
          "name": "stdout",
          "text": [
            "Test Dice: 0.8230\n",
            "Test Dice Kidney: 0.8179\n",
            "Test Dice Tumor: 0.2430\n",
            "Test Dice Crystal: 0.0000\n"
          ]
        },
        {
          "output_type": "stream",
          "name": "stderr",
          "text": [
            "\r  3%|▎         | 3/98 [00:18<09:27,  5.97s/it]"
          ]
        },
        {
          "output_type": "stream",
          "name": "stdout",
          "text": [
            "Test Dice: 0.8871\n",
            "Test Dice Kidney: 0.9116\n",
            "Test Dice Tumor: 0.0000\n"
          ]
        },
        {
          "output_type": "stream",
          "name": "stderr",
          "text": [
            "\r  4%|▍         | 4/98 [00:24<09:19,  5.95s/it]"
          ]
        },
        {
          "output_type": "stream",
          "name": "stdout",
          "text": [
            "Test Dice: 0.4697\n",
            "Test Dice Kidney: 0.4413\n",
            "Test Dice Tumor: 0.4690\n"
          ]
        },
        {
          "output_type": "stream",
          "name": "stderr",
          "text": [
            "\r  5%|▌         | 5/98 [00:36<12:42,  8.20s/it]"
          ]
        },
        {
          "output_type": "stream",
          "name": "stdout",
          "text": [
            "Test Dice: 0.8910\n",
            "Test Dice Kidney: 0.8744\n",
            "Test Dice Tumor: 0.0030\n"
          ]
        },
        {
          "output_type": "stream",
          "name": "stderr",
          "text": [
            "\r  6%|▌         | 6/98 [01:49<46:18, 30.20s/it]"
          ]
        },
        {
          "output_type": "stream",
          "name": "stdout",
          "text": [
            "Test Dice: 0.7428\n",
            "Test Dice Kidney: 0.8678\n",
            "Test Dice Tumor: 0.0261\n",
            "Test Dice Crystal: 0.0000\n"
          ]
        },
        {
          "output_type": "stream",
          "name": "stderr",
          "text": [
            "\r  7%|▋         | 7/98 [01:58<35:22, 23.32s/it]"
          ]
        },
        {
          "output_type": "stream",
          "name": "stdout",
          "text": [
            "Test Dice: 0.8860\n",
            "Test Dice Kidney: 0.3926\n",
            "Test Dice Tumor: 0.5933\n",
            "Test Dice Crystal: 0.0000\n"
          ]
        },
        {
          "output_type": "stream",
          "name": "stderr",
          "text": [
            "\r  8%|▊         | 8/98 [02:24<36:21, 24.23s/it]"
          ]
        },
        {
          "output_type": "stream",
          "name": "stdout",
          "text": [
            "Test Dice: 0.8093\n",
            "Test Dice Kidney: 0.7730\n",
            "Test Dice Tumor: 0.0000\n",
            "Test Dice Crystal: 0.0000\n"
          ]
        },
        {
          "output_type": "stream",
          "name": "stderr",
          "text": [
            "\r  9%|▉         | 9/98 [02:56<39:38, 26.72s/it]"
          ]
        },
        {
          "output_type": "stream",
          "name": "stdout",
          "text": [
            "Test Dice: 0.3135\n",
            "Test Dice Kidney: 0.5672\n",
            "Test Dice Tumor: 0.0000\n"
          ]
        },
        {
          "output_type": "stream",
          "name": "stderr",
          "text": [
            "\r 10%|█         | 10/98 [03:33<43:50, 29.89s/it]"
          ]
        },
        {
          "output_type": "stream",
          "name": "stdout",
          "text": [
            "Test Dice: 0.8029\n",
            "Test Dice Kidney: 0.8060\n",
            "Test Dice Tumor: 0.0395\n",
            "Test Dice Crystal: 0.0000\n"
          ]
        },
        {
          "output_type": "stream",
          "name": "stderr",
          "text": [
            "\r 11%|█         | 11/98 [03:48<36:49, 25.40s/it]"
          ]
        },
        {
          "output_type": "stream",
          "name": "stdout",
          "text": [
            "Test Dice: 0.9417\n",
            "Test Dice Kidney: 0.9272\n",
            "Test Dice Tumor: 0.0052\n"
          ]
        },
        {
          "output_type": "stream",
          "name": "stderr",
          "text": [
            "\r 12%|█▏        | 12/98 [04:15<36:56, 25.77s/it]"
          ]
        },
        {
          "output_type": "stream",
          "name": "stdout",
          "text": [
            "Test Dice: 0.8225\n",
            "Test Dice Kidney: 0.8173\n",
            "Test Dice Tumor: 0.0000\n",
            "Test Dice Crystal: 0.0000\n"
          ]
        },
        {
          "output_type": "stream",
          "name": "stderr",
          "text": [
            "\r 13%|█▎        | 13/98 [04:38<35:12, 24.85s/it]"
          ]
        },
        {
          "output_type": "stream",
          "name": "stdout",
          "text": [
            "Test Dice: 0.6999\n",
            "Test Dice Kidney: 0.6665\n",
            "Test Dice Tumor: 0.0022\n",
            "Test Dice Crystal: 0.0000\n"
          ]
        },
        {
          "output_type": "stream",
          "name": "stderr",
          "text": [
            "\r 14%|█▍        | 14/98 [04:59<33:03, 23.61s/it]"
          ]
        },
        {
          "output_type": "stream",
          "name": "stdout",
          "text": [
            "Test Dice: 0.9239\n",
            "Test Dice Kidney: 0.9175\n",
            "Test Dice Tumor: 0.2762\n"
          ]
        },
        {
          "output_type": "stream",
          "name": "stderr",
          "text": [
            "\r 15%|█▌        | 15/98 [05:17<30:41, 22.19s/it]"
          ]
        },
        {
          "output_type": "stream",
          "name": "stdout",
          "text": [
            "Test Dice: 0.8619\n",
            "Test Dice Kidney: 0.8621\n",
            "Test Dice Tumor: 0.1712\n"
          ]
        },
        {
          "output_type": "stream",
          "name": "stderr",
          "text": [
            "\r 16%|█▋        | 16/98 [05:32<27:04, 19.82s/it]"
          ]
        },
        {
          "output_type": "stream",
          "name": "stdout",
          "text": [
            "Test Dice: 0.7316\n",
            "Test Dice Kidney: 0.8397\n",
            "Test Dice Tumor: 0.4948\n"
          ]
        },
        {
          "output_type": "stream",
          "name": "stderr",
          "text": [
            "\r 17%|█▋        | 17/98 [05:52<26:58, 19.98s/it]"
          ]
        },
        {
          "output_type": "stream",
          "name": "stdout",
          "text": [
            "Test Dice: 0.8009\n",
            "Test Dice Kidney: 0.7845\n",
            "Test Dice Tumor: 0.6529\n",
            "Test Dice Crystal: 0.0000\n"
          ]
        },
        {
          "output_type": "stream",
          "name": "stderr",
          "text": [
            "\r 18%|█▊        | 18/98 [06:06<24:11, 18.15s/it]"
          ]
        },
        {
          "output_type": "stream",
          "name": "stdout",
          "text": [
            "Test Dice: 0.1194\n",
            "Test Dice Kidney: 0.3144\n",
            "Test Dice Tumor: 0.0065\n",
            "Test Dice Crystal: 0.0000\n"
          ]
        },
        {
          "output_type": "stream",
          "name": "stderr",
          "text": [
            "\r 19%|█▉        | 19/98 [06:29<25:49, 19.62s/it]"
          ]
        },
        {
          "output_type": "stream",
          "name": "stdout",
          "text": [
            "Test Dice: 0.9481\n",
            "Test Dice Kidney: 0.9115\n",
            "Test Dice Tumor: 0.0408\n"
          ]
        },
        {
          "output_type": "stream",
          "name": "stderr",
          "text": [
            "\r 20%|██        | 20/98 [06:47<24:43, 19.01s/it]"
          ]
        },
        {
          "output_type": "stream",
          "name": "stdout",
          "text": [
            "Test Dice: 0.5915\n",
            "Test Dice Kidney: 0.8133\n",
            "Test Dice Tumor: 0.3528\n",
            "Test Dice Crystal: 0.0000\n"
          ]
        },
        {
          "output_type": "stream",
          "name": "stderr",
          "text": [
            "\r 21%|██▏       | 21/98 [07:08<25:27, 19.84s/it]"
          ]
        },
        {
          "output_type": "stream",
          "name": "stdout",
          "text": [
            "Test Dice: 0.8622\n",
            "Test Dice Kidney: 0.7644\n",
            "Test Dice Tumor: 0.4497\n"
          ]
        },
        {
          "output_type": "stream",
          "name": "stderr",
          "text": [
            "\r 22%|██▏       | 22/98 [07:32<26:26, 20.87s/it]"
          ]
        },
        {
          "output_type": "stream",
          "name": "stdout",
          "text": [
            "Test Dice: 0.8123\n",
            "Test Dice Kidney: 0.7878\n",
            "Test Dice Tumor: 0.6538\n"
          ]
        },
        {
          "output_type": "stream",
          "name": "stderr",
          "text": [
            "\r 23%|██▎       | 23/98 [08:03<29:57, 23.97s/it]"
          ]
        },
        {
          "output_type": "stream",
          "name": "stdout",
          "text": [
            "Test Dice: 0.6850\n",
            "Test Dice Kidney: 0.6559\n",
            "Test Dice Tumor: 0.0000\n"
          ]
        },
        {
          "output_type": "stream",
          "name": "stderr",
          "text": [
            "\r 24%|██▍       | 24/98 [08:33<31:53, 25.85s/it]"
          ]
        },
        {
          "output_type": "stream",
          "name": "stdout",
          "text": [
            "Test Dice: 0.8570\n",
            "Test Dice Kidney: 0.7595\n",
            "Test Dice Tumor: 0.5908\n"
          ]
        },
        {
          "output_type": "stream",
          "name": "stderr",
          "text": [
            "\r 26%|██▌       | 25/98 [08:47<26:55, 22.13s/it]"
          ]
        },
        {
          "output_type": "stream",
          "name": "stdout",
          "text": [
            "Test Dice: 0.7703\n",
            "Test Dice Kidney: 0.8334\n",
            "Test Dice Tumor: 0.0000\n",
            "Test Dice Crystal: 0.0000\n"
          ]
        },
        {
          "output_type": "stream",
          "name": "stderr",
          "text": [
            "\r 27%|██▋       | 26/98 [09:06<25:42, 21.42s/it]"
          ]
        },
        {
          "output_type": "stream",
          "name": "stdout",
          "text": [
            "Test Dice: 0.9401\n",
            "Test Dice Kidney: 0.9319\n",
            "Test Dice Tumor: 0.0000\n"
          ]
        },
        {
          "output_type": "stream",
          "name": "stderr",
          "text": [
            "\r 28%|██▊       | 27/98 [09:21<22:49, 19.28s/it]"
          ]
        },
        {
          "output_type": "stream",
          "name": "stdout",
          "text": [
            "Test Dice: 0.9333\n",
            "Test Dice Kidney: 0.9398\n",
            "Test Dice Tumor: 0.0167\n",
            "Test Dice Crystal: 0.0000\n"
          ]
        },
        {
          "output_type": "stream",
          "name": "stderr",
          "text": [
            "\r 29%|██▊       | 28/98 [09:43<23:27, 20.10s/it]"
          ]
        },
        {
          "output_type": "stream",
          "name": "stdout",
          "text": [
            "Test Dice: 0.9363\n",
            "Test Dice Kidney: 0.9022\n",
            "Test Dice Tumor: 0.0139\n",
            "Test Dice Crystal: 0.0000\n"
          ]
        },
        {
          "output_type": "stream",
          "name": "stderr",
          "text": [
            "\r 30%|██▉       | 29/98 [09:53<19:50, 17.25s/it]"
          ]
        },
        {
          "output_type": "stream",
          "name": "stdout",
          "text": [
            "Test Dice: 0.4566\n",
            "Test Dice Kidney: 0.5486\n",
            "Test Dice Tumor: 0.0000\n",
            "Test Dice Crystal: 0.0000\n"
          ]
        },
        {
          "output_type": "stream",
          "name": "stderr",
          "text": [
            "\r 31%|███       | 30/98 [10:10<19:22, 17.09s/it]"
          ]
        },
        {
          "output_type": "stream",
          "name": "stdout",
          "text": [
            "Test Dice: 0.8719\n",
            "Test Dice Kidney: 0.8719\n",
            "Test Dice Tumor: 0.7129\n"
          ]
        },
        {
          "output_type": "stream",
          "name": "stderr",
          "text": [
            "\r 32%|███▏      | 31/98 [10:29<19:44, 17.67s/it]"
          ]
        },
        {
          "output_type": "stream",
          "name": "stdout",
          "text": [
            "Test Dice: 0.9190\n",
            "Test Dice Kidney: 0.9463\n",
            "Test Dice Tumor: 0.0139\n"
          ]
        },
        {
          "output_type": "stream",
          "name": "stderr",
          "text": [
            "\r 33%|███▎      | 32/98 [11:08<26:36, 24.18s/it]"
          ]
        },
        {
          "output_type": "stream",
          "name": "stdout",
          "text": [
            "Test Dice: 0.7550\n",
            "Test Dice Kidney: 0.7660\n",
            "Test Dice Tumor: 0.0530\n"
          ]
        },
        {
          "output_type": "stream",
          "name": "stderr",
          "text": [
            "\r 34%|███▎      | 33/98 [11:32<25:53, 23.90s/it]"
          ]
        },
        {
          "output_type": "stream",
          "name": "stdout",
          "text": [
            "Test Dice: 0.8758\n",
            "Test Dice Kidney: 0.8703\n",
            "Test Dice Tumor: 0.0000\n",
            "Test Dice Crystal: 0.0000\n"
          ]
        },
        {
          "output_type": "stream",
          "name": "stderr",
          "text": [
            "\r 35%|███▍      | 34/98 [11:43<21:30, 20.16s/it]"
          ]
        },
        {
          "output_type": "stream",
          "name": "stdout",
          "text": [
            "Test Dice: 0.8910\n",
            "Test Dice Kidney: 0.8987\n",
            "Test Dice Tumor: 0.0000\n"
          ]
        },
        {
          "output_type": "stream",
          "name": "stderr",
          "text": [
            "\r 36%|███▌      | 35/98 [12:04<21:16, 20.26s/it]"
          ]
        },
        {
          "output_type": "stream",
          "name": "stdout",
          "text": [
            "Test Dice: 0.9612\n",
            "Test Dice Kidney: 0.9557\n",
            "Test Dice Tumor: 0.0000\n"
          ]
        },
        {
          "output_type": "stream",
          "name": "stderr",
          "text": [
            "\r 37%|███▋      | 36/98 [12:51<29:19, 28.38s/it]"
          ]
        },
        {
          "output_type": "stream",
          "name": "stdout",
          "text": [
            "Test Dice: 0.8094\n",
            "Test Dice Kidney: 0.8211\n",
            "Test Dice Tumor: 0.5993\n",
            "Test Dice Crystal: 0.0000\n"
          ]
        },
        {
          "output_type": "stream",
          "name": "stderr",
          "text": [
            "\r 38%|███▊      | 37/98 [13:11<26:28, 26.04s/it]"
          ]
        },
        {
          "output_type": "stream",
          "name": "stdout",
          "text": [
            "Test Dice: 0.9484\n",
            "Test Dice Kidney: 0.9414\n",
            "Test Dice Tumor: 0.0000\n"
          ]
        },
        {
          "output_type": "stream",
          "name": "stderr",
          "text": [
            "\r 39%|███▉      | 38/98 [13:27<23:00, 23.01s/it]"
          ]
        },
        {
          "output_type": "stream",
          "name": "stdout",
          "text": [
            "Test Dice: 0.8705\n",
            "Test Dice Kidney: 0.8377\n",
            "Test Dice Tumor: 0.0173\n"
          ]
        },
        {
          "output_type": "stream",
          "name": "stderr",
          "text": [
            "\r 40%|███▉      | 39/98 [13:42<20:13, 20.56s/it]"
          ]
        },
        {
          "output_type": "stream",
          "name": "stdout",
          "text": [
            "Test Dice: 0.9348\n",
            "Test Dice Kidney: 0.9305\n",
            "Test Dice Tumor: 0.0000\n"
          ]
        },
        {
          "output_type": "stream",
          "name": "stderr",
          "text": [
            "\r 41%|████      | 40/98 [13:58<18:22, 19.01s/it]"
          ]
        },
        {
          "output_type": "stream",
          "name": "stdout",
          "text": [
            "Test Dice: 0.8842\n",
            "Test Dice Kidney: 0.8705\n",
            "Test Dice Tumor: 0.1010\n",
            "Test Dice Crystal: 0.0000\n"
          ]
        },
        {
          "output_type": "stream",
          "name": "stderr",
          "text": [
            "\r 42%|████▏     | 41/98 [14:22<19:28, 20.50s/it]"
          ]
        },
        {
          "output_type": "stream",
          "name": "stdout",
          "text": [
            "Test Dice: 0.8004\n",
            "Test Dice Kidney: 0.7675\n",
            "Test Dice Tumor: 0.1478\n",
            "Test Dice Crystal: 0.0000\n"
          ]
        },
        {
          "output_type": "stream",
          "name": "stderr",
          "text": [
            "\r 43%|████▎     | 42/98 [14:31<15:54, 17.05s/it]"
          ]
        },
        {
          "output_type": "stream",
          "name": "stdout",
          "text": [
            "Test Dice: 0.8440\n",
            "Test Dice Kidney: 0.8434\n",
            "Test Dice Tumor: 0.0050\n"
          ]
        },
        {
          "output_type": "stream",
          "name": "stderr",
          "text": [
            "\r 44%|████▍     | 43/98 [14:53<17:11, 18.75s/it]"
          ]
        },
        {
          "output_type": "stream",
          "name": "stdout",
          "text": [
            "Test Dice: 0.9275\n",
            "Test Dice Kidney: 0.8672\n",
            "Test Dice Tumor: 0.0120\n",
            "Test Dice Crystal: 0.0000\n"
          ]
        },
        {
          "output_type": "stream",
          "name": "stderr",
          "text": [
            "\r 45%|████▍     | 44/98 [15:04<14:33, 16.18s/it]"
          ]
        },
        {
          "output_type": "stream",
          "name": "stdout",
          "text": [
            "Test Dice: 0.9477\n",
            "Test Dice Kidney: 0.9137\n",
            "Test Dice Tumor: 0.0216\n",
            "Test Dice Crystal: 0.0000\n"
          ]
        },
        {
          "output_type": "stream",
          "name": "stderr",
          "text": [
            "\r 46%|████▌     | 45/98 [15:22<14:58, 16.95s/it]"
          ]
        },
        {
          "output_type": "stream",
          "name": "stdout",
          "text": [
            "Test Dice: 0.9401\n",
            "Test Dice Kidney: 0.8745\n",
            "Test Dice Tumor: 0.1229\n",
            "Test Dice Crystal: 0.0000\n"
          ]
        },
        {
          "output_type": "stream",
          "name": "stderr",
          "text": [
            "\r 47%|████▋     | 46/98 [15:43<15:43, 18.15s/it]"
          ]
        },
        {
          "output_type": "stream",
          "name": "stdout",
          "text": [
            "Test Dice: 0.8121\n",
            "Test Dice Kidney: 0.8545\n",
            "Test Dice Tumor: 0.1165\n",
            "Test Dice Crystal: 0.0000\n"
          ]
        },
        {
          "output_type": "stream",
          "name": "stderr",
          "text": [
            "\r 48%|████▊     | 47/98 [16:00<15:02, 17.69s/it]"
          ]
        },
        {
          "output_type": "stream",
          "name": "stdout",
          "text": [
            "Test Dice: 0.8918\n",
            "Test Dice Kidney: 0.8968\n",
            "Test Dice Tumor: 0.0000\n"
          ]
        },
        {
          "output_type": "stream",
          "name": "stderr",
          "text": [
            "\r 49%|████▉     | 48/98 [16:19<15:01, 18.03s/it]"
          ]
        },
        {
          "output_type": "stream",
          "name": "stdout",
          "text": [
            "Test Dice: 0.6950\n",
            "Test Dice Kidney: 0.7057\n",
            "Test Dice Tumor: 0.3631\n",
            "Test Dice Crystal: 0.0000\n"
          ]
        },
        {
          "output_type": "stream",
          "name": "stderr",
          "text": [
            "\r 50%|█████     | 49/98 [16:40<15:26, 18.91s/it]"
          ]
        },
        {
          "output_type": "stream",
          "name": "stdout",
          "text": [
            "Test Dice: 0.9618\n",
            "Test Dice Kidney: 0.9227\n",
            "Test Dice Tumor: 0.0000\n"
          ]
        },
        {
          "output_type": "stream",
          "name": "stderr",
          "text": [
            "\r 51%|█████     | 50/98 [17:03<16:05, 20.12s/it]"
          ]
        },
        {
          "output_type": "stream",
          "name": "stdout",
          "text": [
            "Test Dice: 0.5299\n",
            "Test Dice Kidney: 0.5366\n",
            "Test Dice Tumor: 0.0000\n"
          ]
        },
        {
          "output_type": "stream",
          "name": "stderr",
          "text": [
            "\r 52%|█████▏    | 51/98 [17:14<13:46, 17.59s/it]"
          ]
        },
        {
          "output_type": "stream",
          "name": "stdout",
          "text": [
            "Test Dice: 0.5338\n",
            "Test Dice Kidney: 0.3273\n",
            "Test Dice Tumor: 0.4449\n",
            "Test Dice Crystal: 0.0000\n"
          ]
        },
        {
          "output_type": "stream",
          "name": "stderr",
          "text": [
            "\r 53%|█████▎    | 52/98 [17:30<13:04, 17.06s/it]"
          ]
        },
        {
          "output_type": "stream",
          "name": "stdout",
          "text": [
            "Test Dice: 0.9209\n",
            "Test Dice Kidney: 0.9200\n",
            "Test Dice Tumor: 0.0000\n"
          ]
        },
        {
          "output_type": "stream",
          "name": "stderr",
          "text": [
            "\r 54%|█████▍    | 53/98 [17:58<15:09, 20.22s/it]"
          ]
        },
        {
          "output_type": "stream",
          "name": "stdout",
          "text": [
            "Test Dice: 0.9144\n",
            "Test Dice Kidney: 0.9101\n",
            "Test Dice Tumor: 0.3196\n",
            "Test Dice Crystal: 0.0000\n"
          ]
        },
        {
          "output_type": "stream",
          "name": "stderr",
          "text": [
            "\r 55%|█████▌    | 54/98 [18:41<20:01, 27.30s/it]"
          ]
        },
        {
          "output_type": "stream",
          "name": "stdout",
          "text": [
            "Test Dice: 0.6912\n",
            "Test Dice Kidney: 0.7376\n",
            "Test Dice Tumor: 0.0590\n",
            "Test Dice Crystal: 0.0000\n"
          ]
        },
        {
          "output_type": "stream",
          "name": "stderr",
          "text": [
            "\r 56%|█████▌    | 55/98 [18:59<17:30, 24.43s/it]"
          ]
        },
        {
          "output_type": "stream",
          "name": "stdout",
          "text": [
            "Test Dice: 0.9203\n",
            "Test Dice Kidney: 0.8907\n",
            "Test Dice Tumor: 0.0000\n",
            "Test Dice Crystal: 0.0000\n"
          ]
        },
        {
          "output_type": "stream",
          "name": "stderr",
          "text": [
            "\r 57%|█████▋    | 56/98 [19:18<15:50, 22.64s/it]"
          ]
        },
        {
          "output_type": "stream",
          "name": "stdout",
          "text": [
            "Test Dice: 0.7524\n",
            "Test Dice Kidney: 0.9300\n",
            "Test Dice Tumor: 0.0003\n"
          ]
        },
        {
          "output_type": "stream",
          "name": "stderr",
          "text": [
            "\r 58%|█████▊    | 57/98 [19:41<15:39, 22.92s/it]"
          ]
        },
        {
          "output_type": "stream",
          "name": "stdout",
          "text": [
            "Test Dice: 0.5605\n",
            "Test Dice Kidney: 0.6091\n",
            "Test Dice Tumor: 0.0102\n"
          ]
        },
        {
          "output_type": "stream",
          "name": "stderr",
          "text": [
            "\r 59%|█████▉    | 58/98 [20:06<15:35, 23.39s/it]"
          ]
        },
        {
          "output_type": "stream",
          "name": "stdout",
          "text": [
            "Test Dice: 0.9276\n",
            "Test Dice Kidney: 0.9533\n",
            "Test Dice Tumor: 0.0186\n",
            "Test Dice Crystal: 0.0000\n"
          ]
        },
        {
          "output_type": "stream",
          "name": "stderr",
          "text": [
            "\r 60%|██████    | 59/98 [20:42<17:37, 27.11s/it]"
          ]
        },
        {
          "output_type": "stream",
          "name": "stdout",
          "text": [
            "Test Dice: 0.9229\n",
            "Test Dice Kidney: 0.9197\n",
            "Test Dice Tumor: 0.0000\n",
            "Test Dice Crystal: 0.0000\n"
          ]
        },
        {
          "output_type": "stream",
          "name": "stderr",
          "text": [
            "\r 61%|██████    | 60/98 [20:54<14:25, 22.79s/it]"
          ]
        },
        {
          "output_type": "stream",
          "name": "stdout",
          "text": [
            "Test Dice: 0.9500\n",
            "Test Dice Kidney: 0.9318\n",
            "Test Dice Tumor: 0.0110\n"
          ]
        },
        {
          "output_type": "stream",
          "name": "stderr",
          "text": [
            "\r 62%|██████▏   | 61/98 [21:10<12:46, 20.70s/it]"
          ]
        },
        {
          "output_type": "stream",
          "name": "stdout",
          "text": [
            "Test Dice: 0.5737\n",
            "Test Dice Kidney: 0.5808\n",
            "Test Dice Tumor: 0.0000\n"
          ]
        },
        {
          "output_type": "stream",
          "name": "stderr",
          "text": [
            "\r 63%|██████▎   | 62/98 [21:31<12:25, 20.72s/it]"
          ]
        },
        {
          "output_type": "stream",
          "name": "stdout",
          "text": [
            "Test Dice: 0.7480\n",
            "Test Dice Kidney: 0.6978\n",
            "Test Dice Tumor: 0.6467\n",
            "Test Dice Crystal: 0.0000\n"
          ]
        },
        {
          "output_type": "stream",
          "name": "stderr",
          "text": [
            "\r 64%|██████▍   | 63/98 [21:47<11:16, 19.34s/it]"
          ]
        },
        {
          "output_type": "stream",
          "name": "stdout",
          "text": [
            "Test Dice: 0.8655\n",
            "Test Dice Kidney: 0.9370\n",
            "Test Dice Tumor: 0.0000\n",
            "Test Dice Crystal: 0.0000\n"
          ]
        },
        {
          "output_type": "stream",
          "name": "stderr",
          "text": [
            "\r 65%|██████▌   | 64/98 [22:08<11:12, 19.79s/it]"
          ]
        },
        {
          "output_type": "stream",
          "name": "stdout",
          "text": [
            "Test Dice: 0.9263\n",
            "Test Dice Kidney: 0.9498\n",
            "Test Dice Tumor: 0.0099\n"
          ]
        },
        {
          "output_type": "stream",
          "name": "stderr",
          "text": [
            "\r 66%|██████▋   | 65/98 [22:26<10:36, 19.29s/it]"
          ]
        },
        {
          "output_type": "stream",
          "name": "stdout",
          "text": [
            "Test Dice: 0.8707\n",
            "Test Dice Kidney: 0.8875\n",
            "Test Dice Tumor: 0.2247\n"
          ]
        },
        {
          "output_type": "stream",
          "name": "stderr",
          "text": [
            "\r 67%|██████▋   | 66/98 [22:48<10:41, 20.04s/it]"
          ]
        },
        {
          "output_type": "stream",
          "name": "stdout",
          "text": [
            "Test Dice: 0.9341\n",
            "Test Dice Kidney: 0.9311\n",
            "Test Dice Tumor: 0.0000\n"
          ]
        },
        {
          "output_type": "stream",
          "name": "stderr",
          "text": [
            "\r 68%|██████▊   | 67/98 [23:04<09:47, 18.95s/it]"
          ]
        },
        {
          "output_type": "stream",
          "name": "stdout",
          "text": [
            "Test Dice: 0.7739\n",
            "Test Dice Kidney: 0.8422\n",
            "Test Dice Tumor: 0.0841\n"
          ]
        },
        {
          "output_type": "stream",
          "name": "stderr",
          "text": [
            "\r 69%|██████▉   | 68/98 [23:20<09:03, 18.12s/it]"
          ]
        },
        {
          "output_type": "stream",
          "name": "stdout",
          "text": [
            "Test Dice: 0.6864\n",
            "Test Dice Kidney: 0.7491\n",
            "Test Dice Tumor: 0.5521\n"
          ]
        },
        {
          "output_type": "stream",
          "name": "stderr",
          "text": [
            "\r 70%|███████   | 69/98 [23:38<08:41, 17.98s/it]"
          ]
        },
        {
          "output_type": "stream",
          "name": "stdout",
          "text": [
            "Test Dice: 0.9167\n",
            "Test Dice Kidney: 0.9239\n",
            "Test Dice Tumor: 0.0116\n"
          ]
        },
        {
          "output_type": "stream",
          "name": "stderr",
          "text": [
            "\r 71%|███████▏  | 70/98 [24:01<09:06, 19.53s/it]"
          ]
        },
        {
          "output_type": "stream",
          "name": "stdout",
          "text": [
            "Test Dice: 0.9331\n",
            "Test Dice Kidney: 0.9399\n",
            "Test Dice Tumor: 0.0000\n",
            "Test Dice Crystal: 0.0000\n"
          ]
        },
        {
          "output_type": "stream",
          "name": "stderr",
          "text": [
            "\r 72%|███████▏  | 71/98 [24:21<08:51, 19.69s/it]"
          ]
        },
        {
          "output_type": "stream",
          "name": "stdout",
          "text": [
            "Test Dice: 0.5175\n",
            "Test Dice Kidney: 0.5284\n",
            "Test Dice Tumor: 0.0000\n"
          ]
        },
        {
          "output_type": "stream",
          "name": "stderr",
          "text": [
            "\r 73%|███████▎  | 72/98 [24:47<09:18, 21.49s/it]"
          ]
        },
        {
          "output_type": "stream",
          "name": "stdout",
          "text": [
            "Test Dice: 0.7469\n",
            "Test Dice Kidney: 0.7567\n",
            "Test Dice Tumor: 0.0022\n"
          ]
        },
        {
          "output_type": "stream",
          "name": "stderr",
          "text": [
            "\r 74%|███████▍  | 73/98 [25:02<08:08, 19.55s/it]"
          ]
        },
        {
          "output_type": "stream",
          "name": "stdout",
          "text": [
            "Test Dice: 0.8658\n",
            "Test Dice Kidney: 0.8611\n",
            "Test Dice Tumor: 0.0000\n"
          ]
        },
        {
          "output_type": "stream",
          "name": "stderr",
          "text": [
            "\r 76%|███████▌  | 74/98 [25:32<09:07, 22.83s/it]"
          ]
        },
        {
          "output_type": "stream",
          "name": "stdout",
          "text": [
            "Test Dice: 0.4934\n",
            "Test Dice Kidney: 0.7023\n",
            "Test Dice Tumor: 0.0406\n",
            "Test Dice Crystal: 0.0000\n"
          ]
        },
        {
          "output_type": "stream",
          "name": "stderr",
          "text": [
            "\r 77%|███████▋  | 75/98 [25:50<08:07, 21.20s/it]"
          ]
        },
        {
          "output_type": "stream",
          "name": "stdout",
          "text": [
            "Test Dice: 0.9366\n",
            "Test Dice Kidney: 0.9336\n",
            "Test Dice Tumor: 0.0140\n"
          ]
        },
        {
          "output_type": "stream",
          "name": "stderr",
          "text": [
            "\r 78%|███████▊  | 76/98 [26:19<08:39, 23.64s/it]"
          ]
        },
        {
          "output_type": "stream",
          "name": "stdout",
          "text": [
            "Test Dice: 0.7681\n",
            "Test Dice Kidney: 0.5210\n",
            "Test Dice Tumor: 0.7104\n"
          ]
        },
        {
          "output_type": "stream",
          "name": "stderr",
          "text": [
            "\r 79%|███████▊  | 77/98 [26:33<07:16, 20.77s/it]"
          ]
        },
        {
          "output_type": "stream",
          "name": "stdout",
          "text": [
            "Test Dice: 0.9597\n",
            "Test Dice Kidney: 0.9032\n",
            "Test Dice Tumor: 0.4130\n"
          ]
        },
        {
          "output_type": "stream",
          "name": "stderr",
          "text": [
            "\r 80%|███████▉  | 78/98 [26:51<06:36, 19.84s/it]"
          ]
        },
        {
          "output_type": "stream",
          "name": "stdout",
          "text": [
            "Test Dice: 0.9311\n",
            "Test Dice Kidney: 0.9117\n",
            "Test Dice Tumor: 0.1003\n",
            "Test Dice Crystal: 0.0000\n"
          ]
        },
        {
          "output_type": "stream",
          "name": "stderr",
          "text": [
            "\r 81%|████████  | 79/98 [27:21<07:16, 22.99s/it]"
          ]
        },
        {
          "output_type": "stream",
          "name": "stdout",
          "text": [
            "Test Dice: 0.9418\n",
            "Test Dice Kidney: 0.9338\n",
            "Test Dice Tumor: 0.0000\n",
            "Test Dice Crystal: 0.0000\n"
          ]
        },
        {
          "output_type": "stream",
          "name": "stderr",
          "text": [
            "\r 82%|████████▏ | 80/98 [27:41<06:34, 21.93s/it]"
          ]
        },
        {
          "output_type": "stream",
          "name": "stdout",
          "text": [
            "Test Dice: 0.8684\n",
            "Test Dice Kidney: 0.8008\n",
            "Test Dice Tumor: 0.0000\n"
          ]
        },
        {
          "output_type": "stream",
          "name": "stderr",
          "text": [
            "\r 83%|████████▎ | 81/98 [28:08<06:42, 23.65s/it]"
          ]
        },
        {
          "output_type": "stream",
          "name": "stdout",
          "text": [
            "Test Dice: 0.8425\n",
            "Test Dice Kidney: 0.9195\n",
            "Test Dice Tumor: 0.0716\n"
          ]
        },
        {
          "output_type": "stream",
          "name": "stderr",
          "text": [
            "\r 84%|████████▎ | 82/98 [28:29<06:03, 22.71s/it]"
          ]
        },
        {
          "output_type": "stream",
          "name": "stdout",
          "text": [
            "Test Dice: 0.9238\n",
            "Test Dice Kidney: 0.9126\n",
            "Test Dice Tumor: 0.0000\n",
            "Test Dice Crystal: 0.0000\n"
          ]
        },
        {
          "output_type": "stream",
          "name": "stderr",
          "text": [
            "\r 85%|████████▍ | 83/98 [28:56<06:01, 24.13s/it]"
          ]
        },
        {
          "output_type": "stream",
          "name": "stdout",
          "text": [
            "Test Dice: 0.9381\n",
            "Test Dice Kidney: 0.9248\n",
            "Test Dice Tumor: 0.0003\n",
            "Test Dice Crystal: 0.0000\n"
          ]
        },
        {
          "output_type": "stream",
          "name": "stderr",
          "text": [
            "\r 86%|████████▌ | 84/98 [29:37<06:49, 29.26s/it]"
          ]
        },
        {
          "output_type": "stream",
          "name": "stdout",
          "text": [
            "Test Dice: 0.8169\n",
            "Test Dice Kidney: 0.7517\n",
            "Test Dice Tumor: 0.0046\n"
          ]
        },
        {
          "output_type": "stream",
          "name": "stderr",
          "text": [
            "\r 87%|████████▋ | 85/98 [29:53<05:28, 25.24s/it]"
          ]
        },
        {
          "output_type": "stream",
          "name": "stdout",
          "text": [
            "Test Dice: 0.9529\n",
            "Test Dice Kidney: 0.9284\n",
            "Test Dice Tumor: 0.1047\n",
            "Test Dice Crystal: 0.0000\n"
          ]
        },
        {
          "output_type": "stream",
          "name": "stderr",
          "text": [
            "\r 88%|████████▊ | 86/98 [30:05<04:14, 21.25s/it]"
          ]
        },
        {
          "output_type": "stream",
          "name": "stdout",
          "text": [
            "Test Dice: 0.8815\n",
            "Test Dice Kidney: 0.8905\n",
            "Test Dice Tumor: 0.0000\n",
            "Test Dice Crystal: 0.0000\n"
          ]
        },
        {
          "output_type": "stream",
          "name": "stderr",
          "text": [
            "\r 89%|████████▉ | 87/98 [30:30<04:05, 22.33s/it]"
          ]
        },
        {
          "output_type": "stream",
          "name": "stdout",
          "text": [
            "Test Dice: 0.7349\n",
            "Test Dice Kidney: 0.6940\n",
            "Test Dice Tumor: 0.0457\n"
          ]
        },
        {
          "output_type": "stream",
          "name": "stderr",
          "text": [
            "\r 90%|████████▉ | 88/98 [30:47<03:27, 20.76s/it]"
          ]
        },
        {
          "output_type": "stream",
          "name": "stdout",
          "text": [
            "Test Dice: 0.8228\n",
            "Test Dice Kidney: 0.8239\n",
            "Test Dice Tumor: 0.0000\n",
            "Test Dice Crystal: 0.0000\n"
          ]
        },
        {
          "output_type": "stream",
          "name": "stderr",
          "text": [
            "\r 91%|█████████ | 89/98 [30:56<02:34, 17.21s/it]"
          ]
        },
        {
          "output_type": "stream",
          "name": "stdout",
          "text": [
            "Test Dice: 0.8861\n",
            "Test Dice Kidney: 0.8579\n",
            "Test Dice Tumor: 0.4197\n",
            "Test Dice Crystal: 0.0000\n"
          ]
        },
        {
          "output_type": "stream",
          "name": "stderr",
          "text": [
            "\r 92%|█████████▏| 90/98 [31:10<02:08, 16.05s/it]"
          ]
        },
        {
          "output_type": "stream",
          "name": "stdout",
          "text": [
            "Test Dice: 0.7406\n",
            "Test Dice Kidney: 0.8531\n",
            "Test Dice Tumor: 0.0000\n",
            "Test Dice Crystal: 0.0000\n"
          ]
        },
        {
          "output_type": "stream",
          "name": "stderr",
          "text": [
            "\r 93%|█████████▎| 91/98 [31:35<02:11, 18.84s/it]"
          ]
        },
        {
          "output_type": "stream",
          "name": "stdout",
          "text": [
            "Test Dice: 0.8634\n",
            "Test Dice Kidney: 0.8830\n",
            "Test Dice Tumor: 0.0110\n"
          ]
        },
        {
          "output_type": "stream",
          "name": "stderr",
          "text": [
            "\r 94%|█████████▍| 92/98 [31:41<01:29, 14.89s/it]"
          ]
        },
        {
          "output_type": "stream",
          "name": "stdout",
          "text": [
            "Test Dice: 0.0831\n",
            "Test Dice Kidney: 0.1015\n",
            "Test Dice Tumor: 0.0000\n"
          ]
        },
        {
          "output_type": "stream",
          "name": "stderr",
          "text": [
            "\r 95%|█████████▍| 93/98 [32:14<01:41, 20.36s/it]"
          ]
        },
        {
          "output_type": "stream",
          "name": "stdout",
          "text": [
            "Test Dice: 0.8408\n",
            "Test Dice Kidney: 0.8483\n",
            "Test Dice Tumor: 0.0000\n"
          ]
        },
        {
          "output_type": "stream",
          "name": "stderr",
          "text": [
            "\r 96%|█████████▌| 94/98 [32:44<01:33, 23.45s/it]"
          ]
        },
        {
          "output_type": "stream",
          "name": "stdout",
          "text": [
            "Test Dice: 0.8366\n",
            "Test Dice Kidney: 0.8574\n",
            "Test Dice Tumor: 0.3606\n",
            "Test Dice Crystal: 0.0000\n"
          ]
        },
        {
          "output_type": "stream",
          "name": "stderr",
          "text": [
            "\r 97%|█████████▋| 95/98 [33:05<01:07, 22.56s/it]"
          ]
        },
        {
          "output_type": "stream",
          "name": "stdout",
          "text": [
            "Test Dice: 0.9343\n",
            "Test Dice Kidney: 0.9330\n",
            "Test Dice Tumor: 0.0225\n"
          ]
        },
        {
          "output_type": "stream",
          "name": "stderr",
          "text": [
            "\r 98%|█████████▊| 96/98 [33:27<00:44, 22.39s/it]"
          ]
        },
        {
          "output_type": "stream",
          "name": "stdout",
          "text": [
            "Test Dice: 0.5994\n",
            "Test Dice Kidney: 0.5677\n",
            "Test Dice Tumor: 0.4790\n"
          ]
        },
        {
          "output_type": "stream",
          "name": "stderr",
          "text": [
            "\r 99%|█████████▉| 97/98 [34:00<00:25, 25.63s/it]"
          ]
        },
        {
          "output_type": "stream",
          "name": "stdout",
          "text": [
            "Test Dice: 0.9281\n",
            "Test Dice Kidney: 0.8938\n",
            "Test Dice Tumor: 0.4682\n",
            "Test Dice Crystal: 0.0000\n"
          ]
        },
        {
          "output_type": "stream",
          "name": "stderr",
          "text": [
            "100%|██████████| 98/98 [34:30<00:00, 21.13s/it]"
          ]
        },
        {
          "output_type": "stream",
          "name": "stdout",
          "text": [
            "Test Dice: 0.5244\n",
            "Test Dice Kidney: 0.3817\n",
            "Test Dice Tumor: 0.0182\n",
            "Dice: 0.8004\n",
            "Dice Kidney: 0.7989\n",
            "Dice Tumor: 0.1360\n",
            "Dice Cyst: 0.0000\n"
          ]
        },
        {
          "output_type": "stream",
          "name": "stderr",
          "text": [
            "\n"
          ]
        }
      ]
    }
  ]
}